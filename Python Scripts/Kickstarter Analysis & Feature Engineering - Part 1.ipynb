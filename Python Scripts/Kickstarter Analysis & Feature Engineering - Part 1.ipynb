{
 "cells": [
  {
   "cell_type": "code",
   "execution_count": 1,
   "metadata": {},
   "outputs": [
    {
     "name": "stderr",
     "output_type": "stream",
     "text": [
      "Using TensorFlow backend.\n"
     ]
    },
    {
     "data": {
      "text/plain": [
       "'C:\\\\Users\\\\valla\\\\Python Run Environment\\\\Data Mining Project Kickstarter'"
      ]
     },
     "execution_count": 1,
     "metadata": {},
     "output_type": "execute_result"
    }
   ],
   "source": [
    "## Code Header #######\n",
    "## Notebook Name: Kickstarter Analysis\n",
    "## Objective: To learn which design decisions help kickstarter campaigns succeed and to predict the successes of any kickstarter campaigns.\n",
    "## Start Date: 11th April 2020\n",
    "## Data Sources\n",
    "    # Source 1: Webscraped kickstarter data - Scraped by Web Robots - https://webrobots.io/kickstarter-datasets/\n",
    "## Author(s):\n",
    "    # Vallabh Reddy\n",
    "    # Soumya Halder\n",
    "    # Utkarsh Singh\n",
    "## Edits to be made\n",
    "## Questions about the context\n",
    "    # Does every backer pledge a fixed amount? Or can backers decide the pledge amount?\n",
    "## Structure of the analysis\n",
    "    # Data Input: Read all the columns in the right format\n",
    "    # Run analysis for a single file first, but replicate for all files together.( Is there a way to batch execute)\n",
    "    # Feature Engineering\n",
    "        # Blurb : Brief text explaining the project\n",
    "        # Calculate campaign length\n",
    "        # Average pledge by backer\n",
    "        # Extract the categories from the dictionary.\n",
    "    # EDA\n",
    "        # Glean insights which might help design decisions\n",
    "    # SciKit Learn\n",
    "        # Logistic Regression; Glean insights which might help design decisions\n",
    "        # Trees\n",
    "        # Neural Network\n",
    "    \n",
    "import pandas as pd\n",
    "import matplotlib.pyplot as plt\n",
    "import matplotlib.ticker as ticker\n",
    "%matplotlib inline\n",
    "import seaborn as sns\n",
    "import numpy as np\n",
    "import os\n",
    "import json\n",
    "import ast\n",
    "from datetime import datetime\n",
    "from sklearn.model_selection import train_test_split\n",
    "import textstat\n",
    "import math\n",
    "from sklearn.feature_selection import RFE\n",
    "from sklearn.linear_model import LogisticRegression\n",
    "from sklearn.svm import SVC, LinearSVC\n",
    "from sklearn import metrics as sk_metrics\n",
    "import glob\n",
    "from keras.layers import Dense\n",
    "from keras.models import Sequential\n",
    "from keras.utils import to_categorical\n",
    "from keras.callbacks import EarlyStopping\n",
    "from keras.optimizers import Adam\n",
    "from keras.models import load_model\n",
    "from keras import metrics\n",
    "os.getcwd()"
   ]
  },
  {
   "cell_type": "code",
   "execution_count": 2,
   "metadata": {},
   "outputs": [
    {
     "data": {
      "text/plain": [
       "['.ipynb_checkpoints',\n",
       " '16_Hidden_Non_Text.h5',\n",
       " '17_Hidden_Non_Text.h5',\n",
       " '17_Hidden_Text.h5',\n",
       " 'Data',\n",
       " 'Data_Mining_II_Project_Proposal_v2.docx',\n",
       " 'DT & RF results.docx',\n",
       " 'DT & RF results_v2.docx',\n",
       " 'Kickstarter Analysis.ipynb',\n",
       " 'Kickstarter Analysis_v2.ipynb',\n",
       " 'Kickstarter Text Features - Utkarsh.ipynb',\n",
       " 'Model performances report v1 _ latest.docx',\n",
       " 'Model performances report v1.docx',\n",
       " 'Neural Network Models.docx',\n",
       " 'Project Kickstarter - Shortcut.lnk',\n",
       " 'Text mining & Modeling (Logistic) with and without text features  - Utkarsh.ipynb']"
      ]
     },
     "execution_count": 2,
     "metadata": {},
     "output_type": "execute_result"
    }
   ],
   "source": [
    "os.listdir()"
   ]
  },
  {
   "cell_type": "code",
   "execution_count": 3,
   "metadata": {},
   "outputs": [],
   "source": [
    "path = r'C:\\Users\\valla\\Python Run Environment\\Data Mining Project Kickstarter\\Data' # use your path\n",
    "all_files = glob.glob(path + \"/*.csv\")\n",
    "li = []\n",
    "for filename in all_files:\n",
    "    df = pd.read_csv(filename, index_col=None, header=0)\n",
    "    li.append(df)\n",
    "input = pd.concat(li, axis=0, ignore_index=True)"
   ]
  },
  {
   "cell_type": "code",
   "execution_count": 4,
   "metadata": {},
   "outputs": [
    {
     "data": {
      "text/plain": [
       "211271"
      ]
     },
     "execution_count": 4,
     "metadata": {},
     "output_type": "execute_result"
    }
   ],
   "source": [
    "len(input)"
   ]
  },
  {
   "cell_type": "code",
   "execution_count": 5,
   "metadata": {},
   "outputs": [
    {
     "data": {
      "text/html": [
       "<div>\n",
       "<style scoped>\n",
       "    .dataframe tbody tr th:only-of-type {\n",
       "        vertical-align: middle;\n",
       "    }\n",
       "\n",
       "    .dataframe tbody tr th {\n",
       "        vertical-align: top;\n",
       "    }\n",
       "\n",
       "    .dataframe thead th {\n",
       "        text-align: right;\n",
       "    }\n",
       "</style>\n",
       "<table border=\"1\" class=\"dataframe\">\n",
       "  <thead>\n",
       "    <tr style=\"text-align: right;\">\n",
       "      <th></th>\n",
       "      <th>backers_count</th>\n",
       "      <th>converted_pledged_amount</th>\n",
       "      <th>created_at</th>\n",
       "      <th>deadline</th>\n",
       "      <th>fx_rate</th>\n",
       "      <th>goal</th>\n",
       "      <th>id</th>\n",
       "      <th>launched_at</th>\n",
       "      <th>pledged</th>\n",
       "      <th>state_changed_at</th>\n",
       "      <th>static_usd_rate</th>\n",
       "      <th>usd_pledged</th>\n",
       "    </tr>\n",
       "  </thead>\n",
       "  <tbody>\n",
       "    <tr>\n",
       "      <th>count</th>\n",
       "      <td>211271.000000</td>\n",
       "      <td>2.112700e+05</td>\n",
       "      <td>2.112710e+05</td>\n",
       "      <td>2.112710e+05</td>\n",
       "      <td>211271.000000</td>\n",
       "      <td>2.112710e+05</td>\n",
       "      <td>2.112710e+05</td>\n",
       "      <td>2.112710e+05</td>\n",
       "      <td>2.112710e+05</td>\n",
       "      <td>2.112710e+05</td>\n",
       "      <td>211271.000000</td>\n",
       "      <td>2.112700e+05</td>\n",
       "    </tr>\n",
       "    <tr>\n",
       "      <th>mean</th>\n",
       "      <td>150.037208</td>\n",
       "      <td>1.367009e+04</td>\n",
       "      <td>1.470048e+09</td>\n",
       "      <td>1.477090e+09</td>\n",
       "      <td>0.988962</td>\n",
       "      <td>5.135802e+04</td>\n",
       "      <td>1.074248e+09</td>\n",
       "      <td>1.474242e+09</td>\n",
       "      <td>2.234156e+04</td>\n",
       "      <td>1.476923e+09</td>\n",
       "      <td>1.004172</td>\n",
       "      <td>1.366035e+04</td>\n",
       "    </tr>\n",
       "    <tr>\n",
       "      <th>std</th>\n",
       "      <td>908.844718</td>\n",
       "      <td>1.043794e+05</td>\n",
       "      <td>7.053706e+07</td>\n",
       "      <td>7.027463e+07</td>\n",
       "      <td>0.217407</td>\n",
       "      <td>1.260406e+06</td>\n",
       "      <td>6.190552e+08</td>\n",
       "      <td>7.035694e+07</td>\n",
       "      <td>6.063421e+05</td>\n",
       "      <td>7.016636e+07</td>\n",
       "      <td>0.237434</td>\n",
       "      <td>1.042839e+05</td>\n",
       "    </tr>\n",
       "    <tr>\n",
       "      <th>min</th>\n",
       "      <td>0.000000</td>\n",
       "      <td>0.000000e+00</td>\n",
       "      <td>1.240366e+09</td>\n",
       "      <td>1.243770e+09</td>\n",
       "      <td>0.006985</td>\n",
       "      <td>1.000000e-02</td>\n",
       "      <td>2.941000e+03</td>\n",
       "      <td>0.000000e+00</td>\n",
       "      <td>0.000000e+00</td>\n",
       "      <td>1.243770e+09</td>\n",
       "      <td>0.000000</td>\n",
       "      <td>0.000000e+00</td>\n",
       "    </tr>\n",
       "    <tr>\n",
       "      <th>25%</th>\n",
       "      <td>4.000000</td>\n",
       "      <td>1.200000e+02</td>\n",
       "      <td>1.420513e+09</td>\n",
       "      <td>1.427039e+09</td>\n",
       "      <td>1.000000</td>\n",
       "      <td>1.500000e+03</td>\n",
       "      <td>5.383756e+08</td>\n",
       "      <td>1.424207e+09</td>\n",
       "      <td>1.240000e+02</td>\n",
       "      <td>1.426881e+09</td>\n",
       "      <td>1.000000</td>\n",
       "      <td>1.200000e+02</td>\n",
       "    </tr>\n",
       "    <tr>\n",
       "      <th>50%</th>\n",
       "      <td>28.000000</td>\n",
       "      <td>1.615000e+03</td>\n",
       "      <td>1.470848e+09</td>\n",
       "      <td>1.478232e+09</td>\n",
       "      <td>1.000000</td>\n",
       "      <td>5.000000e+03</td>\n",
       "      <td>1.074606e+09</td>\n",
       "      <td>1.475512e+09</td>\n",
       "      <td>1.652000e+03</td>\n",
       "      <td>1.478164e+09</td>\n",
       "      <td>1.000000</td>\n",
       "      <td>1.615000e+03</td>\n",
       "    </tr>\n",
       "    <tr>\n",
       "      <th>75%</th>\n",
       "      <td>92.000000</td>\n",
       "      <td>6.782000e+03</td>\n",
       "      <td>1.533627e+09</td>\n",
       "      <td>1.541172e+09</td>\n",
       "      <td>1.000000</td>\n",
       "      <td>1.500000e+04</td>\n",
       "      <td>1.610673e+09</td>\n",
       "      <td>1.538411e+09</td>\n",
       "      <td>7.245000e+03</td>\n",
       "      <td>1.541110e+09</td>\n",
       "      <td>1.000000</td>\n",
       "      <td>6.795951e+03</td>\n",
       "    </tr>\n",
       "    <tr>\n",
       "      <th>max</th>\n",
       "      <td>105857.000000</td>\n",
       "      <td>1.214344e+07</td>\n",
       "      <td>1.579142e+09</td>\n",
       "      <td>1.584328e+09</td>\n",
       "      <td>1.888592</td>\n",
       "      <td>1.000000e+08</td>\n",
       "      <td>2.147467e+09</td>\n",
       "      <td>1.579151e+09</td>\n",
       "      <td>1.469102e+08</td>\n",
       "      <td>1.579153e+09</td>\n",
       "      <td>1.716408</td>\n",
       "      <td>1.214344e+07</td>\n",
       "    </tr>\n",
       "  </tbody>\n",
       "</table>\n",
       "</div>"
      ],
      "text/plain": [
       "       backers_count  converted_pledged_amount    created_at      deadline  \\\n",
       "count  211271.000000              2.112700e+05  2.112710e+05  2.112710e+05   \n",
       "mean      150.037208              1.367009e+04  1.470048e+09  1.477090e+09   \n",
       "std       908.844718              1.043794e+05  7.053706e+07  7.027463e+07   \n",
       "min         0.000000              0.000000e+00  1.240366e+09  1.243770e+09   \n",
       "25%         4.000000              1.200000e+02  1.420513e+09  1.427039e+09   \n",
       "50%        28.000000              1.615000e+03  1.470848e+09  1.478232e+09   \n",
       "75%        92.000000              6.782000e+03  1.533627e+09  1.541172e+09   \n",
       "max    105857.000000              1.214344e+07  1.579142e+09  1.584328e+09   \n",
       "\n",
       "             fx_rate          goal            id   launched_at       pledged  \\\n",
       "count  211271.000000  2.112710e+05  2.112710e+05  2.112710e+05  2.112710e+05   \n",
       "mean        0.988962  5.135802e+04  1.074248e+09  1.474242e+09  2.234156e+04   \n",
       "std         0.217407  1.260406e+06  6.190552e+08  7.035694e+07  6.063421e+05   \n",
       "min         0.006985  1.000000e-02  2.941000e+03  0.000000e+00  0.000000e+00   \n",
       "25%         1.000000  1.500000e+03  5.383756e+08  1.424207e+09  1.240000e+02   \n",
       "50%         1.000000  5.000000e+03  1.074606e+09  1.475512e+09  1.652000e+03   \n",
       "75%         1.000000  1.500000e+04  1.610673e+09  1.538411e+09  7.245000e+03   \n",
       "max         1.888592  1.000000e+08  2.147467e+09  1.579151e+09  1.469102e+08   \n",
       "\n",
       "       state_changed_at  static_usd_rate   usd_pledged  \n",
       "count      2.112710e+05    211271.000000  2.112700e+05  \n",
       "mean       1.476923e+09         1.004172  1.366035e+04  \n",
       "std        7.016636e+07         0.237434  1.042839e+05  \n",
       "min        1.243770e+09         0.000000  0.000000e+00  \n",
       "25%        1.426881e+09         1.000000  1.200000e+02  \n",
       "50%        1.478164e+09         1.000000  1.615000e+03  \n",
       "75%        1.541110e+09         1.000000  6.795951e+03  \n",
       "max        1.579153e+09         1.716408  1.214344e+07  "
      ]
     },
     "execution_count": 5,
     "metadata": {},
     "output_type": "execute_result"
    }
   ],
   "source": [
    "input.describe()"
   ]
  },
  {
   "cell_type": "code",
   "execution_count": 6,
   "metadata": {},
   "outputs": [
    {
     "data": {
      "text/plain": [
       "['backers_count',\n",
       " 'blurb',\n",
       " 'category',\n",
       " 'converted_pledged_amount',\n",
       " 'country',\n",
       " 'country_displayable_name',\n",
       " 'created_at',\n",
       " 'creator',\n",
       " 'currency',\n",
       " 'currency_symbol',\n",
       " 'currency_trailing_code',\n",
       " 'current_currency',\n",
       " 'deadline',\n",
       " 'disable_communication',\n",
       " 'friends',\n",
       " 'fx_rate',\n",
       " 'goal',\n",
       " 'id',\n",
       " 'is_backing',\n",
       " 'is_starrable',\n",
       " 'is_starred',\n",
       " 'launched_at',\n",
       " 'location',\n",
       " 'name',\n",
       " 'permissions',\n",
       " 'photo',\n",
       " 'pledged',\n",
       " 'profile',\n",
       " 'slug',\n",
       " 'source_url',\n",
       " 'spotlight',\n",
       " 'staff_pick',\n",
       " 'state',\n",
       " 'state_changed_at',\n",
       " 'static_usd_rate',\n",
       " 'urls',\n",
       " 'usd_pledged',\n",
       " 'usd_type']"
      ]
     },
     "execution_count": 6,
     "metadata": {},
     "output_type": "execute_result"
    }
   ],
   "source": [
    "input.shape\n",
    "list(input.columns)"
   ]
  },
  {
   "cell_type": "code",
   "execution_count": 7,
   "metadata": {},
   "outputs": [],
   "source": [
    "# Converting all date columns to a proper date time format\n",
    "input.created_at = pd.to_datetime(input.created_at, unit = 's')\n",
    "input.deadline = pd.to_datetime(input.deadline, unit = 's')\n",
    "input.launched_at = pd.to_datetime(input.launched_at, unit = 's')\n",
    "input.state_changed_at = pd.to_datetime(input.state_changed_at, unit = 's')"
   ]
  },
  {
   "cell_type": "code",
   "execution_count": 8,
   "metadata": {},
   "outputs": [
    {
     "data": {
      "text/html": [
       "<div>\n",
       "<style scoped>\n",
       "    .dataframe tbody tr th:only-of-type {\n",
       "        vertical-align: middle;\n",
       "    }\n",
       "\n",
       "    .dataframe tbody tr th {\n",
       "        vertical-align: top;\n",
       "    }\n",
       "\n",
       "    .dataframe thead th {\n",
       "        text-align: right;\n",
       "    }\n",
       "</style>\n",
       "<table border=\"1\" class=\"dataframe\">\n",
       "  <thead>\n",
       "    <tr style=\"text-align: right;\">\n",
       "      <th></th>\n",
       "      <th>created_at</th>\n",
       "      <th>deadline</th>\n",
       "      <th>launched_at</th>\n",
       "      <th>state_changed_at</th>\n",
       "      <th>state</th>\n",
       "    </tr>\n",
       "  </thead>\n",
       "  <tbody>\n",
       "    <tr>\n",
       "      <th>0</th>\n",
       "      <td>2018-08-19 20:36:22</td>\n",
       "      <td>2019-02-03 23:26:21</td>\n",
       "      <td>2018-12-05 23:26:21</td>\n",
       "      <td>2019-02-03 23:26:22</td>\n",
       "      <td>failed</td>\n",
       "    </tr>\n",
       "    <tr>\n",
       "      <th>1</th>\n",
       "      <td>2016-11-30 04:30:00</td>\n",
       "      <td>2017-01-25 13:45:21</td>\n",
       "      <td>2016-12-26 13:45:21</td>\n",
       "      <td>2017-01-25 13:45:21</td>\n",
       "      <td>failed</td>\n",
       "    </tr>\n",
       "    <tr>\n",
       "      <th>2</th>\n",
       "      <td>2016-11-01 20:53:37</td>\n",
       "      <td>2016-11-16 13:20:24</td>\n",
       "      <td>2016-11-02 12:20:24</td>\n",
       "      <td>2016-11-16 13:20:24</td>\n",
       "      <td>failed</td>\n",
       "    </tr>\n",
       "    <tr>\n",
       "      <th>3</th>\n",
       "      <td>2018-01-23 02:37:14</td>\n",
       "      <td>2018-05-10 18:33:16</td>\n",
       "      <td>2018-04-10 18:33:16</td>\n",
       "      <td>2018-05-10 18:33:17</td>\n",
       "      <td>failed</td>\n",
       "    </tr>\n",
       "    <tr>\n",
       "      <th>4</th>\n",
       "      <td>2019-04-08 03:43:56</td>\n",
       "      <td>2019-05-17 01:23:35</td>\n",
       "      <td>2019-04-17 01:23:35</td>\n",
       "      <td>2019-05-17 01:23:35</td>\n",
       "      <td>failed</td>\n",
       "    </tr>\n",
       "  </tbody>\n",
       "</table>\n",
       "</div>"
      ],
      "text/plain": [
       "           created_at            deadline         launched_at  \\\n",
       "0 2018-08-19 20:36:22 2019-02-03 23:26:21 2018-12-05 23:26:21   \n",
       "1 2016-11-30 04:30:00 2017-01-25 13:45:21 2016-12-26 13:45:21   \n",
       "2 2016-11-01 20:53:37 2016-11-16 13:20:24 2016-11-02 12:20:24   \n",
       "3 2018-01-23 02:37:14 2018-05-10 18:33:16 2018-04-10 18:33:16   \n",
       "4 2019-04-08 03:43:56 2019-05-17 01:23:35 2019-04-17 01:23:35   \n",
       "\n",
       "     state_changed_at   state  \n",
       "0 2019-02-03 23:26:22  failed  \n",
       "1 2017-01-25 13:45:21  failed  \n",
       "2 2016-11-16 13:20:24  failed  \n",
       "3 2018-05-10 18:33:17  failed  \n",
       "4 2019-05-17 01:23:35  failed  "
      ]
     },
     "execution_count": 8,
     "metadata": {},
     "output_type": "execute_result"
    }
   ],
   "source": [
    "input[['created_at','deadline', 'launched_at', 'state_changed_at', 'state']].head()"
   ]
  },
  {
   "cell_type": "code",
   "execution_count": 9,
   "metadata": {},
   "outputs": [],
   "source": [
    "# Converting each value in the 'category' column to a dictionary\n",
    "input['cat_dict'] = input.category.apply(ast.literal_eval)\n"
   ]
  },
  {
   "cell_type": "code",
   "execution_count": 10,
   "metadata": {},
   "outputs": [],
   "source": [
    "# Creating new columns to store the category information\n",
    "len(input)\n",
    "input['category'] = ''\n",
    "input['sub_category'] = ''"
   ]
  },
  {
   "cell_type": "code",
   "execution_count": 11,
   "metadata": {},
   "outputs": [],
   "source": [
    "# Defining a function to read the dictionary and extract the required values\n",
    "def categorize(dictionary):\n",
    "    if 'parent_name' in dictionary:\n",
    "        return (dictionary['parent_name'], dictionary['name'])\n",
    "    else:\n",
    "        return (dictionary['name'], None)\n",
    "\n",
    "\n",
    "# Applying this function to the category dictionary field in the input dataset\n",
    "category_tuples = input.cat_dict.apply(categorize)\n",
    "\n",
    "# The result was a series of tuples, we must now split up these tuples and assign them appropriately to the required columns\n",
    "input.category = pd.DataFrame(category_tuples.tolist())[0]\n",
    "input.sub_category = pd.DataFrame(category_tuples.tolist())[1]"
   ]
  },
  {
   "cell_type": "code",
   "execution_count": 12,
   "metadata": {},
   "outputs": [],
   "source": [
    "# Removing duplicates at profile level with keeping the last source_url value\n",
    "input = input.drop_duplicates(subset = 'profile', keep = 'last')\n",
    "input.reset_index();"
   ]
  },
  {
   "cell_type": "code",
   "execution_count": 13,
   "metadata": {},
   "outputs": [
    {
     "data": {
      "text/plain": [
       "186004"
      ]
     },
     "execution_count": 13,
     "metadata": {},
     "output_type": "execute_result"
    }
   ],
   "source": [
    "len(input)"
   ]
  },
  {
   "cell_type": "code",
   "execution_count": 14,
   "metadata": {},
   "outputs": [],
   "source": [
    "#EDA \n",
    "    # Check Distribution of data \n",
    "        # Categories/ sub categories\n",
    "        # Countries\n",
    "        # dates launched at?\n"
   ]
  },
  {
   "cell_type": "markdown",
   "metadata": {},
   "source": [
    "### Histograms"
   ]
  },
  {
   "cell_type": "code",
   "execution_count": 15,
   "metadata": {},
   "outputs": [],
   "source": [
    "input['Success'] = input.state.apply(lambda x: 1 if x =='successful' else 0)\n",
    "input['Failure'] = input.state.apply(lambda x: 0 if x =='successful' else 1)"
   ]
  },
  {
   "cell_type": "code",
   "execution_count": 16,
   "metadata": {},
   "outputs": [
    {
     "data": {
      "image/png": "[encoded data removed]",
      "text/plain": [
       "<Figure size 1440x2880 with 6 Axes>"
      ]
     },
     "metadata": {
      "needs_background": "light"
     },
     "output_type": "display_data"
    }
   ],
   "source": [
    "fig, ax = plt.subplots(6, figsize = (20, 40))\n",
    "chart1 = sns.barplot(x = 'Success', y = 'category', data = input, ax = ax[0])\n",
    "chart1.set_title('Successes by Category')\n",
    "chart1.set_ylabel('Category')\n",
    "\n",
    "chart2 = sns.countplot(y = 'category',  data = input, ax = ax[1])\n",
    "chart2.set_title('Count by Category');\n",
    "chart2.set_ylabel('Category')\n",
    "\n",
    "chart3 = sns.barplot(x = 'Success', y = 'sub_category', data = input, ax = ax[2])\n",
    "chart3.set_title('Successes by Sub Category')\n",
    "chart3.set_ylabel('Sub Category')\n",
    "\n",
    "chart4 = sns.countplot(y = 'sub_category', data = input, ax = ax[3])\n",
    "chart4.set_title('Count by Sub Category');\n",
    "chart4.set_ylabel('Sub Category')\n",
    "\n",
    "\n",
    "chart5 = sns.barplot(x = 'Success', y = 'country', data = input, ax = ax[4])\n",
    "chart5.set_title('Successes by Country')\n",
    "chart5.set_ylabel('Country');\n",
    "\n",
    "chart6 = sns.countplot(y = 'country', data = input, ax = ax[5]);\n",
    "chart6.set_title('Count by Country')\n",
    "chart6.set_ylabel('Country');\n"
   ]
  },
  {
   "cell_type": "code",
   "execution_count": 17,
   "metadata": {},
   "outputs": [
    {
     "data": {
      "text/html": [
       "<div>\n",
       "<style scoped>\n",
       "    .dataframe tbody tr th:only-of-type {\n",
       "        vertical-align: middle;\n",
       "    }\n",
       "\n",
       "    .dataframe tbody tr th {\n",
       "        vertical-align: top;\n",
       "    }\n",
       "\n",
       "    .dataframe thead th {\n",
       "        text-align: right;\n",
       "    }\n",
       "</style>\n",
       "<table border=\"1\" class=\"dataframe\">\n",
       "  <thead>\n",
       "    <tr style=\"text-align: right;\">\n",
       "      <th></th>\n",
       "      <th>category</th>\n",
       "      <th>Success</th>\n",
       "      <th>Failure</th>\n",
       "    </tr>\n",
       "  </thead>\n",
       "  <tbody>\n",
       "    <tr>\n",
       "      <th>0</th>\n",
       "      <td>Art</td>\n",
       "      <td>11049</td>\n",
       "      <td>9024</td>\n",
       "    </tr>\n",
       "    <tr>\n",
       "      <th>1</th>\n",
       "      <td>Comics</td>\n",
       "      <td>5584</td>\n",
       "      <td>1404</td>\n",
       "    </tr>\n",
       "    <tr>\n",
       "      <th>2</th>\n",
       "      <td>Crafts</td>\n",
       "      <td>2357</td>\n",
       "      <td>4058</td>\n",
       "    </tr>\n",
       "    <tr>\n",
       "      <th>3</th>\n",
       "      <td>Dance</td>\n",
       "      <td>2393</td>\n",
       "      <td>775</td>\n",
       "    </tr>\n",
       "    <tr>\n",
       "      <th>4</th>\n",
       "      <td>Design</td>\n",
       "      <td>3899</td>\n",
       "      <td>3046</td>\n",
       "    </tr>\n",
       "  </tbody>\n",
       "</table>\n",
       "</div>"
      ],
      "text/plain": [
       "  category  Success  Failure\n",
       "0      Art    11049     9024\n",
       "1   Comics     5584     1404\n",
       "2   Crafts     2357     4058\n",
       "3    Dance     2393      775\n",
       "4   Design     3899     3046"
      ]
     },
     "execution_count": 17,
     "metadata": {},
     "output_type": "execute_result"
    }
   ],
   "source": [
    "## Grouping and aggregating success and failure numbers \n",
    "cat_agg = input.groupby(['category'],as_index = False).agg({'Success':[sum], 'Failure':[sum]})\n",
    "cat_agg.columns = cat_agg.columns.get_level_values(0)\n",
    "cat_agg.head()\n",
    "\n"
   ]
  },
  {
   "cell_type": "code",
   "execution_count": 18,
   "metadata": {},
   "outputs": [
    {
     "data": {
      "text/plain": [
       "20073"
      ]
     },
     "execution_count": 18,
     "metadata": {},
     "output_type": "execute_result"
    }
   ],
   "source": [
    "len(input.loc[input.category == 'Art'])\n",
    "# The sum checks out"
   ]
  },
  {
   "cell_type": "code",
   "execution_count": 19,
   "metadata": {},
   "outputs": [
    {
     "data": {
      "text/html": [
       "<div>\n",
       "<style scoped>\n",
       "    .dataframe tbody tr th:only-of-type {\n",
       "        vertical-align: middle;\n",
       "    }\n",
       "\n",
       "    .dataframe tbody tr th {\n",
       "        vertical-align: top;\n",
       "    }\n",
       "\n",
       "    .dataframe thead th {\n",
       "        text-align: right;\n",
       "    }\n",
       "</style>\n",
       "<table border=\"1\" class=\"dataframe\">\n",
       "  <thead>\n",
       "    <tr style=\"text-align: right;\">\n",
       "      <th></th>\n",
       "      <th>country</th>\n",
       "      <th>Success</th>\n",
       "      <th>Failure</th>\n",
       "    </tr>\n",
       "  </thead>\n",
       "  <tbody>\n",
       "    <tr>\n",
       "      <th>0</th>\n",
       "      <td>AT</td>\n",
       "      <td>160</td>\n",
       "      <td>293</td>\n",
       "    </tr>\n",
       "    <tr>\n",
       "      <th>1</th>\n",
       "      <td>AU</td>\n",
       "      <td>2061</td>\n",
       "      <td>2370</td>\n",
       "    </tr>\n",
       "    <tr>\n",
       "      <th>2</th>\n",
       "      <td>BE</td>\n",
       "      <td>211</td>\n",
       "      <td>323</td>\n",
       "    </tr>\n",
       "    <tr>\n",
       "      <th>3</th>\n",
       "      <td>CA</td>\n",
       "      <td>4385</td>\n",
       "      <td>4326</td>\n",
       "    </tr>\n",
       "    <tr>\n",
       "      <th>4</th>\n",
       "      <td>CH</td>\n",
       "      <td>243</td>\n",
       "      <td>383</td>\n",
       "    </tr>\n",
       "  </tbody>\n",
       "</table>\n",
       "</div>"
      ],
      "text/plain": [
       "  country  Success  Failure\n",
       "0      AT      160      293\n",
       "1      AU     2061     2370\n",
       "2      BE      211      323\n",
       "3      CA     4385     4326\n",
       "4      CH      243      383"
      ]
     },
     "execution_count": 19,
     "metadata": {},
     "output_type": "execute_result"
    }
   ],
   "source": [
    "country_agg = input.groupby(['country'], as_index = False).agg({'Success':[sum], 'Failure':[sum]})\n",
    "country_agg.columns = country_agg.columns.get_level_values(0)\n",
    "country_agg.head()"
   ]
  },
  {
   "cell_type": "code",
   "execution_count": 20,
   "metadata": {},
   "outputs": [
    {
     "data": {
      "text/plain": [
       "7839"
      ]
     },
     "execution_count": 20,
     "metadata": {},
     "output_type": "execute_result"
    }
   ],
   "source": [
    "# Checking the count of None subcategories\n",
    "sum(input.sub_category.apply(lambda x: x is None))\n"
   ]
  },
  {
   "cell_type": "code",
   "execution_count": 21,
   "metadata": {},
   "outputs": [
    {
     "data": {
      "text/plain": [
       "186004"
      ]
     },
     "execution_count": 21,
     "metadata": {},
     "output_type": "execute_result"
    }
   ],
   "source": [
    "len(input)"
   ]
  },
  {
   "cell_type": "code",
   "execution_count": 22,
   "metadata": {},
   "outputs": [
    {
     "data": {
      "text/plain": [
       "55"
      ]
     },
     "execution_count": 22,
     "metadata": {},
     "output_type": "execute_result"
    }
   ],
   "source": [
    "# Checking the count of LU\n",
    "sum(input.country == 'LU')"
   ]
  },
  {
   "cell_type": "markdown",
   "metadata": {},
   "source": [
    "### Feature Engineering"
   ]
  },
  {
   "cell_type": "code",
   "execution_count": 23,
   "metadata": {
    "scrolled": true
   },
   "outputs": [
    {
     "data": {
      "text/plain": [
       "'Luxembourg'"
      ]
     },
     "execution_count": 23,
     "metadata": {},
     "output_type": "execute_result"
    }
   ],
   "source": [
    "# Create a country code lookup dictionary\n",
    "country_code = input.country.tolist()\n",
    "country_name = input.country_displayable_name.tolist()\n",
    "\n",
    "country_dict = dict(zip(country_code, country_name))\n",
    "\n",
    "country_dict['LU']"
   ]
  },
  {
   "cell_type": "code",
   "execution_count": 24,
   "metadata": {},
   "outputs": [],
   "source": [
    "## Date Differences\n",
    "    # Time between launch and deadline\n",
    "    # Time between creation and launch\n",
    "\n",
    "input['design_duration_days'] = (input.launched_at - input.created_at).apply(lambda x: x.days)\n",
    "input['campaign_duration_days'] = (input.deadline - input.launched_at).apply(lambda x: x.days)\n",
    "\n",
    "## Extract month values and day values of launch and deadline\n",
    "input['launch_day'] = input.launched_at.apply(lambda x: x.day)\n",
    "input['launch_month'] = input.launched_at.apply(lambda x: x.month)\n",
    "input['launch_DOW'] = input.launched_at.apply(lambda x: x.weekday())\n"
   ]
  },
  {
   "cell_type": "code",
   "execution_count": 25,
   "metadata": {},
   "outputs": [],
   "source": [
    "# Converting goals of all currencies to USD\n",
    "input['goal_usd'] = input.goal * input.static_usd_rate"
   ]
  },
  {
   "cell_type": "code",
   "execution_count": 26,
   "metadata": {},
   "outputs": [],
   "source": [
    "## Feature engineering with blurb and name?\n",
    "\n",
    "# Blurb readability test using Flesch Reading Score ( higher = more readable)\n",
    "# There are NaNs in the blurb column, so we'll convert them to str first and remove them\n",
    "input.blurb = input.blurb.apply(str)\n",
    "input = input.loc[input.blurb != 'nan']\n",
    "input['blurb_readability_score'] = input.blurb.apply(textstat.flesch_reading_ease)\n",
    "\n"
   ]
  },
  {
   "cell_type": "code",
   "execution_count": 27,
   "metadata": {
    "scrolled": true
   },
   "outputs": [
    {
     "data": {
      "text/html": [
       "<div>\n",
       "<style scoped>\n",
       "    .dataframe tbody tr th:only-of-type {\n",
       "        vertical-align: middle;\n",
       "    }\n",
       "\n",
       "    .dataframe tbody tr th {\n",
       "        vertical-align: top;\n",
       "    }\n",
       "\n",
       "    .dataframe thead th {\n",
       "        text-align: right;\n",
       "    }\n",
       "</style>\n",
       "<table border=\"1\" class=\"dataframe\">\n",
       "  <thead>\n",
       "    <tr style=\"text-align: right;\">\n",
       "      <th></th>\n",
       "      <th>blurb_readability_score</th>\n",
       "      <th>blurb</th>\n",
       "    </tr>\n",
       "  </thead>\n",
       "  <tbody>\n",
       "    <tr>\n",
       "      <th>0</th>\n",
       "      <td>74.53</td>\n",
       "      <td>Das Good Inc goal is to make cooking easy and ...</td>\n",
       "    </tr>\n",
       "    <tr>\n",
       "      <th>1</th>\n",
       "      <td>42.72</td>\n",
       "      <td>A web series about the soul crushing exercise ...</td>\n",
       "    </tr>\n",
       "    <tr>\n",
       "      <th>2</th>\n",
       "      <td>2.44</td>\n",
       "      <td>A photographic essay on the historic, incompar...</td>\n",
       "    </tr>\n",
       "    <tr>\n",
       "      <th>3</th>\n",
       "      <td>33.24</td>\n",
       "      <td>A romantic comedy mini series following a self...</td>\n",
       "    </tr>\n",
       "    <tr>\n",
       "      <th>4</th>\n",
       "      <td>34.26</td>\n",
       "      <td>The Drums of Atlant is an original science fic...</td>\n",
       "    </tr>\n",
       "    <tr>\n",
       "      <th>5</th>\n",
       "      <td>59.80</td>\n",
       "      <td>\"...a real photographer will make you look twi...</td>\n",
       "    </tr>\n",
       "    <tr>\n",
       "      <th>7</th>\n",
       "      <td>62.34</td>\n",
       "      <td>Es nuestra ilusión, tener nuestro propio resta...</td>\n",
       "    </tr>\n",
       "    <tr>\n",
       "      <th>8</th>\n",
       "      <td>50.16</td>\n",
       "      <td>A relaxing teaching tool, this coloring book f...</td>\n",
       "    </tr>\n",
       "    <tr>\n",
       "      <th>9</th>\n",
       "      <td>72.50</td>\n",
       "      <td>Floating above the planet Ithor on Tafanda Bay...</td>\n",
       "    </tr>\n",
       "    <tr>\n",
       "      <th>10</th>\n",
       "      <td>41.70</td>\n",
       "      <td>Social, environmental and cultural project tha...</td>\n",
       "    </tr>\n",
       "    <tr>\n",
       "      <th>11</th>\n",
       "      <td>44.41</td>\n",
       "      <td>Os presentamos nuestro próximo trabajo, AMARNA...</td>\n",
       "    </tr>\n",
       "    <tr>\n",
       "      <th>13</th>\n",
       "      <td>41.70</td>\n",
       "      <td>A semi-autobiographical, epic fantasy sitcom a...</td>\n",
       "    </tr>\n",
       "    <tr>\n",
       "      <th>15</th>\n",
       "      <td>69.79</td>\n",
       "      <td>The Warehouse brings culture through art and m...</td>\n",
       "    </tr>\n",
       "    <tr>\n",
       "      <th>16</th>\n",
       "      <td>40.69</td>\n",
       "      <td>A cyberpunk espionage comic book series with a...</td>\n",
       "    </tr>\n",
       "    <tr>\n",
       "      <th>18</th>\n",
       "      <td>73.17</td>\n",
       "      <td>In this Lovecraftian Horror story, can you tel...</td>\n",
       "    </tr>\n",
       "    <tr>\n",
       "      <th>20</th>\n",
       "      <td>60.65</td>\n",
       "      <td>A twice-monthy webseries about video, tabletop...</td>\n",
       "    </tr>\n",
       "    <tr>\n",
       "      <th>21</th>\n",
       "      <td>76.22</td>\n",
       "      <td>Want to open my first restaurant with deliciou...</td>\n",
       "    </tr>\n",
       "    <tr>\n",
       "      <th>22</th>\n",
       "      <td>70.29</td>\n",
       "      <td>A hardboiled detective in H.P. Lovecraft's Ark...</td>\n",
       "    </tr>\n",
       "    <tr>\n",
       "      <th>23</th>\n",
       "      <td>26.81</td>\n",
       "      <td>The shocking concluding chapter of the initial...</td>\n",
       "    </tr>\n",
       "    <tr>\n",
       "      <th>24</th>\n",
       "      <td>57.61</td>\n",
       "      <td>We'll create a \"tour guide\" for analog travell...</td>\n",
       "    </tr>\n",
       "    <tr>\n",
       "      <th>25</th>\n",
       "      <td>65.05</td>\n",
       "      <td>After a creative rebirth, Iris Divine is ready...</td>\n",
       "    </tr>\n",
       "    <tr>\n",
       "      <th>26</th>\n",
       "      <td>69.79</td>\n",
       "      <td>...because we believe little changes can make ...</td>\n",
       "    </tr>\n",
       "    <tr>\n",
       "      <th>28</th>\n",
       "      <td>60.82</td>\n",
       "      <td>Designer socks with a pop culture twist. Featu...</td>\n",
       "    </tr>\n",
       "    <tr>\n",
       "      <th>30</th>\n",
       "      <td>-23.28</td>\n",
       "      <td>Another action comic extravaganza from the Eis...</td>\n",
       "    </tr>\n",
       "    <tr>\n",
       "      <th>31</th>\n",
       "      <td>35.27</td>\n",
       "      <td>Meaningful Gifts: Extraordinary stories and pi...</td>\n",
       "    </tr>\n",
       "    <tr>\n",
       "      <th>32</th>\n",
       "      <td>49.15</td>\n",
       "      <td>Challenge met! Almost. Help me turn my 100 poe...</td>\n",
       "    </tr>\n",
       "    <tr>\n",
       "      <th>33</th>\n",
       "      <td>63.02</td>\n",
       "      <td>A young woman learns she is one of few women l...</td>\n",
       "    </tr>\n",
       "    <tr>\n",
       "      <th>34</th>\n",
       "      <td>86.03</td>\n",
       "      <td>Mankind is thrust to the stars in this journey...</td>\n",
       "    </tr>\n",
       "    <tr>\n",
       "      <th>35</th>\n",
       "      <td>56.59</td>\n",
       "      <td>Control the weather to help herds of animals r...</td>\n",
       "    </tr>\n",
       "    <tr>\n",
       "      <th>37</th>\n",
       "      <td>59.64</td>\n",
       "      <td>Bloody Sunday Sessions is a music video projec...</td>\n",
       "    </tr>\n",
       "    <tr>\n",
       "      <th>...</th>\n",
       "      <td>...</td>\n",
       "      <td>...</td>\n",
       "    </tr>\n",
       "    <tr>\n",
       "      <th>211241</th>\n",
       "      <td>62.34</td>\n",
       "      <td>A Unique Trapeze workshop 'Rig' for children &amp;...</td>\n",
       "    </tr>\n",
       "    <tr>\n",
       "      <th>211242</th>\n",
       "      <td>59.64</td>\n",
       "      <td>Free yourself from Sleep Debt with Repsio Slee...</td>\n",
       "    </tr>\n",
       "    <tr>\n",
       "      <th>211243</th>\n",
       "      <td>40.69</td>\n",
       "      <td>To promote a hands-on musical theater experien...</td>\n",
       "    </tr>\n",
       "    <tr>\n",
       "      <th>211244</th>\n",
       "      <td>46.44</td>\n",
       "      <td>A superhero inspired series of pride-themed en...</td>\n",
       "    </tr>\n",
       "    <tr>\n",
       "      <th>211245</th>\n",
       "      <td>88.02</td>\n",
       "      <td>Ammatusk's debut CD came out in 2005. We had p...</td>\n",
       "    </tr>\n",
       "    <tr>\n",
       "      <th>211246</th>\n",
       "      <td>50.84</td>\n",
       "      <td>A 2020 destiel-themed art calendar made possib...</td>\n",
       "    </tr>\n",
       "    <tr>\n",
       "      <th>211247</th>\n",
       "      <td>67.08</td>\n",
       "      <td>Connecticut based musician Asher Condit is tra...</td>\n",
       "    </tr>\n",
       "    <tr>\n",
       "      <th>211248</th>\n",
       "      <td>84.17</td>\n",
       "      <td>Michael is 8 years old and wants to start his ...</td>\n",
       "    </tr>\n",
       "    <tr>\n",
       "      <th>211249</th>\n",
       "      <td>43.73</td>\n",
       "      <td>Vrailler aims to empower the disabled as well ...</td>\n",
       "    </tr>\n",
       "    <tr>\n",
       "      <th>211250</th>\n",
       "      <td>36.28</td>\n",
       "      <td>This bright LED display produces high-resoluti...</td>\n",
       "    </tr>\n",
       "    <tr>\n",
       "      <th>211251</th>\n",
       "      <td>80.96</td>\n",
       "      <td>Partner with us in fundraising for our new alb...</td>\n",
       "    </tr>\n",
       "    <tr>\n",
       "      <th>211252</th>\n",
       "      <td>50.16</td>\n",
       "      <td>I will be creating a music CD containing 12 tr...</td>\n",
       "    </tr>\n",
       "    <tr>\n",
       "      <th>211253</th>\n",
       "      <td>94.15</td>\n",
       "      <td>We're heading to the studio to record our firs...</td>\n",
       "    </tr>\n",
       "    <tr>\n",
       "      <th>211254</th>\n",
       "      <td>60.31</td>\n",
       "      <td>Simplistic gemstone jewelry and charms made ju...</td>\n",
       "    </tr>\n",
       "    <tr>\n",
       "      <th>211255</th>\n",
       "      <td>26.81</td>\n",
       "      <td>Phone2PC is a magic combination of various App...</td>\n",
       "    </tr>\n",
       "    <tr>\n",
       "      <th>211256</th>\n",
       "      <td>45.42</td>\n",
       "      <td>More vintage pinup style enamel pins for celeb...</td>\n",
       "    </tr>\n",
       "    <tr>\n",
       "      <th>211257</th>\n",
       "      <td>32.90</td>\n",
       "      <td>Up-and-Coming Style is a magazine dedicated to...</td>\n",
       "    </tr>\n",
       "    <tr>\n",
       "      <th>211258</th>\n",
       "      <td>54.22</td>\n",
       "      <td>Iconic D&amp;D classes re-imagined as cats - in me...</td>\n",
       "    </tr>\n",
       "    <tr>\n",
       "      <th>211259</th>\n",
       "      <td>35.95</td>\n",
       "      <td>A collection of cute and nostalgic gaming pins...</td>\n",
       "    </tr>\n",
       "    <tr>\n",
       "      <th>211260</th>\n",
       "      <td>51.18</td>\n",
       "      <td>Introducing the world's first intelligent vide...</td>\n",
       "    </tr>\n",
       "    <tr>\n",
       "      <th>211261</th>\n",
       "      <td>21.06</td>\n",
       "      <td>\"Thank You For Choosing This Reality\" - Releas...</td>\n",
       "    </tr>\n",
       "    <tr>\n",
       "      <th>211262</th>\n",
       "      <td>87.72</td>\n",
       "      <td>They've splattered the stage, now they wanna s...</td>\n",
       "    </tr>\n",
       "    <tr>\n",
       "      <th>211263</th>\n",
       "      <td>36.28</td>\n",
       "      <td>Empowering spirited girls to embrace their ind...</td>\n",
       "    </tr>\n",
       "    <tr>\n",
       "      <th>211264</th>\n",
       "      <td>38.32</td>\n",
       "      <td>The world's fastest recycled toy and science p...</td>\n",
       "    </tr>\n",
       "    <tr>\n",
       "      <th>211265</th>\n",
       "      <td>33.92</td>\n",
       "      <td>Support our mission to create Upstate New York...</td>\n",
       "    </tr>\n",
       "    <tr>\n",
       "      <th>211266</th>\n",
       "      <td>17.00</td>\n",
       "      <td>Providing opportunity for young people aged 11...</td>\n",
       "    </tr>\n",
       "    <tr>\n",
       "      <th>211267</th>\n",
       "      <td>61.33</td>\n",
       "      <td>A collection of enamel pins inspired by horror...</td>\n",
       "    </tr>\n",
       "    <tr>\n",
       "      <th>211268</th>\n",
       "      <td>53.21</td>\n",
       "      <td>A full length Bitches in the Beehive album, re...</td>\n",
       "    </tr>\n",
       "    <tr>\n",
       "      <th>211269</th>\n",
       "      <td>53.21</td>\n",
       "      <td>Primer disco de AryaTara/ AryaTara first recor...</td>\n",
       "    </tr>\n",
       "    <tr>\n",
       "      <th>211270</th>\n",
       "      <td>71.82</td>\n",
       "      <td>The debut album from KC's new Celtic \"Supergroup\"</td>\n",
       "    </tr>\n",
       "  </tbody>\n",
       "</table>\n",
       "<p>185996 rows × 2 columns</p>\n",
       "</div>"
      ],
      "text/plain": [
       "        blurb_readability_score  \\\n",
       "0                         74.53   \n",
       "1                         42.72   \n",
       "2                          2.44   \n",
       "3                         33.24   \n",
       "4                         34.26   \n",
       "5                         59.80   \n",
       "7                         62.34   \n",
       "8                         50.16   \n",
       "9                         72.50   \n",
       "10                        41.70   \n",
       "11                        44.41   \n",
       "13                        41.70   \n",
       "15                        69.79   \n",
       "16                        40.69   \n",
       "18                        73.17   \n",
       "20                        60.65   \n",
       "21                        76.22   \n",
       "22                        70.29   \n",
       "23                        26.81   \n",
       "24                        57.61   \n",
       "25                        65.05   \n",
       "26                        69.79   \n",
       "28                        60.82   \n",
       "30                       -23.28   \n",
       "31                        35.27   \n",
       "32                        49.15   \n",
       "33                        63.02   \n",
       "34                        86.03   \n",
       "35                        56.59   \n",
       "37                        59.64   \n",
       "...                         ...   \n",
       "211241                    62.34   \n",
       "211242                    59.64   \n",
       "211243                    40.69   \n",
       "211244                    46.44   \n",
       "211245                    88.02   \n",
       "211246                    50.84   \n",
       "211247                    67.08   \n",
       "211248                    84.17   \n",
       "211249                    43.73   \n",
       "211250                    36.28   \n",
       "211251                    80.96   \n",
       "211252                    50.16   \n",
       "211253                    94.15   \n",
       "211254                    60.31   \n",
       "211255                    26.81   \n",
       "211256                    45.42   \n",
       "211257                    32.90   \n",
       "211258                    54.22   \n",
       "211259                    35.95   \n",
       "211260                    51.18   \n",
       "211261                    21.06   \n",
       "211262                    87.72   \n",
       "211263                    36.28   \n",
       "211264                    38.32   \n",
       "211265                    33.92   \n",
       "211266                    17.00   \n",
       "211267                    61.33   \n",
       "211268                    53.21   \n",
       "211269                    53.21   \n",
       "211270                    71.82   \n",
       "\n",
       "                                                    blurb  \n",
       "0       Das Good Inc goal is to make cooking easy and ...  \n",
       "1       A web series about the soul crushing exercise ...  \n",
       "2       A photographic essay on the historic, incompar...  \n",
       "3       A romantic comedy mini series following a self...  \n",
       "4       The Drums of Atlant is an original science fic...  \n",
       "5       \"...a real photographer will make you look twi...  \n",
       "7       Es nuestra ilusión, tener nuestro propio resta...  \n",
       "8       A relaxing teaching tool, this coloring book f...  \n",
       "9       Floating above the planet Ithor on Tafanda Bay...  \n",
       "10      Social, environmental and cultural project tha...  \n",
       "11      Os presentamos nuestro próximo trabajo, AMARNA...  \n",
       "13      A semi-autobiographical, epic fantasy sitcom a...  \n",
       "15      The Warehouse brings culture through art and m...  \n",
       "16      A cyberpunk espionage comic book series with a...  \n",
       "18      In this Lovecraftian Horror story, can you tel...  \n",
       "20      A twice-monthy webseries about video, tabletop...  \n",
       "21      Want to open my first restaurant with deliciou...  \n",
       "22      A hardboiled detective in H.P. Lovecraft's Ark...  \n",
       "23      The shocking concluding chapter of the initial...  \n",
       "24      We'll create a \"tour guide\" for analog travell...  \n",
       "25      After a creative rebirth, Iris Divine is ready...  \n",
       "26      ...because we believe little changes can make ...  \n",
       "28      Designer socks with a pop culture twist. Featu...  \n",
       "30      Another action comic extravaganza from the Eis...  \n",
       "31      Meaningful Gifts: Extraordinary stories and pi...  \n",
       "32      Challenge met! Almost. Help me turn my 100 poe...  \n",
       "33      A young woman learns she is one of few women l...  \n",
       "34      Mankind is thrust to the stars in this journey...  \n",
       "35      Control the weather to help herds of animals r...  \n",
       "37      Bloody Sunday Sessions is a music video projec...  \n",
       "...                                                   ...  \n",
       "211241  A Unique Trapeze workshop 'Rig' for children &...  \n",
       "211242  Free yourself from Sleep Debt with Repsio Slee...  \n",
       "211243  To promote a hands-on musical theater experien...  \n",
       "211244  A superhero inspired series of pride-themed en...  \n",
       "211245  Ammatusk's debut CD came out in 2005. We had p...  \n",
       "211246  A 2020 destiel-themed art calendar made possib...  \n",
       "211247  Connecticut based musician Asher Condit is tra...  \n",
       "211248  Michael is 8 years old and wants to start his ...  \n",
       "211249  Vrailler aims to empower the disabled as well ...  \n",
       "211250  This bright LED display produces high-resoluti...  \n",
       "211251  Partner with us in fundraising for our new alb...  \n",
       "211252  I will be creating a music CD containing 12 tr...  \n",
       "211253  We're heading to the studio to record our firs...  \n",
       "211254  Simplistic gemstone jewelry and charms made ju...  \n",
       "211255  Phone2PC is a magic combination of various App...  \n",
       "211256  More vintage pinup style enamel pins for celeb...  \n",
       "211257  Up-and-Coming Style is a magazine dedicated to...  \n",
       "211258  Iconic D&D classes re-imagined as cats - in me...  \n",
       "211259  A collection of cute and nostalgic gaming pins...  \n",
       "211260  Introducing the world's first intelligent vide...  \n",
       "211261  \"Thank You For Choosing This Reality\" - Releas...  \n",
       "211262  They've splattered the stage, now they wanna s...  \n",
       "211263  Empowering spirited girls to embrace their ind...  \n",
       "211264  The world's fastest recycled toy and science p...  \n",
       "211265  Support our mission to create Upstate New York...  \n",
       "211266  Providing opportunity for young people aged 11...  \n",
       "211267  A collection of enamel pins inspired by horror...  \n",
       "211268  A full length Bitches in the Beehive album, re...  \n",
       "211269  Primer disco de AryaTara/ AryaTara first recor...  \n",
       "211270  The debut album from KC's new Celtic \"Supergroup\"  \n",
       "\n",
       "[185996 rows x 2 columns]"
      ]
     },
     "execution_count": 27,
     "metadata": {},
     "output_type": "execute_result"
    }
   ],
   "source": [
    "input[['blurb_readability_score', 'blurb']]"
   ]
  },
  {
   "cell_type": "code",
   "execution_count": 28,
   "metadata": {},
   "outputs": [
    {
     "data": {
      "text/plain": [
       "Text(0.5, 0, 'Campaign Duration in days')"
      ]
     },
     "execution_count": 28,
     "metadata": {},
     "output_type": "execute_result"
    },
    {
     "data": {
      "image/png": "[encoded data removed]",
      "text/plain": [
       "<Figure size 1440x720 with 1 Axes>"
      ]
     },
     "metadata": {
      "needs_background": "light"
     },
     "output_type": "display_data"
    }
   ],
   "source": [
    "# Check success rate by duration\n",
    "\n",
    "plt.subplots(figsize = (20,10))\n",
    "chart2 = sns.barplot(x = 'campaign_duration_days' , y = 'Success', data = input)\n",
    "chart2.set_title('Campaign Duration Days Success Rate');\n",
    "chart2.set_xlabel('Campaign Duration in days')\n"
   ]
  },
  {
   "cell_type": "code",
   "execution_count": 29,
   "metadata": {
    "scrolled": false
   },
   "outputs": [
    {
     "data": {
      "image/png": "[encoded data removed]",
      "text/plain": [
       "<Figure size 1440x720 with 1 Axes>"
      ]
     },
     "metadata": {
      "needs_background": "light"
     },
     "output_type": "display_data"
    },
    {
     "data": {
      "image/png": "[encoded data removed]",
      "text/plain": [
       "<Figure size 1440x720 with 1 Axes>"
      ]
     },
     "metadata": {
      "needs_background": "light"
     },
     "output_type": "display_data"
    },
    {
     "data": {
      "image/png": "[encoded data removed]",
      "text/plain": [
       "<Figure size 1440x720 with 1 Axes>"
      ]
     },
     "metadata": {
      "needs_background": "light"
     },
     "output_type": "display_data"
    },
    {
     "data": {
      "image/png": "[encoded data removed]",
      "text/plain": [
       "<Figure size 1440x720 with 1 Axes>"
      ]
     },
     "metadata": {
      "needs_background": "light"
     },
     "output_type": "display_data"
    },
    {
     "data": {
      "image/png": "[encoded data removed]",
      "text/plain": [
       "<Figure size 1440x720 with 1 Axes>"
      ]
     },
     "metadata": {
      "needs_background": "light"
     },
     "output_type": "display_data"
    },
    {
     "data": {
      "image/png": "[encoded data removed]",
      "text/plain": [
       "<Figure size 1440x720 with 1 Axes>"
      ]
     },
     "metadata": {
      "needs_background": "light"
     },
     "output_type": "display_data"
    }
   ],
   "source": [
    "\n",
    "plt.subplots(figsize = (20,10))\n",
    "chart3 = sns.countplot(x = 'launch_month', data = input)\n",
    "chart3.set_title('Launch Month Frequency Distribution')\n",
    "\n",
    "plt.subplots(figsize = (20,10))\n",
    "chart4 = sns.barplot(x = 'launch_month', y = 'Success', data = input)\n",
    "chart4.set_title('Launch Month Success Rate')\n",
    "\n",
    "plt.subplots(figsize = (20,10))\n",
    "chart5 = sns.countplot(x = 'launch_day', data = input)\n",
    "chart5.set_title('Launch Day Frequency Distribution')\n",
    "\n",
    "plt.subplots(figsize = (20,10))\n",
    "chart6 = sns.barplot(x = 'launch_day', y = 'Success', data = input)\n",
    "chart6.set_title('Launch Day Success Rate')\n",
    "\n",
    "plt.subplots(figsize = (20,10))\n",
    "chart7 = sns.countplot(x = 'launch_DOW', data = input)\n",
    "chart7.set_title('Launch Day Frequency Distribution')\n",
    "chart7.set_xlabel('Day of Week');\n",
    "\n",
    "plt.subplots(figsize = (20,10))\n",
    "chart8 = sns.barplot(x = 'launch_DOW', y = 'Success', data = input)\n",
    "chart8.set_title('Launch Day of Week Success Rate')\n",
    "chart8.set_xlabel('Day of Week');\n"
   ]
  },
  {
   "cell_type": "markdown",
   "metadata": {},
   "source": [
    "#### 0 is Monday, 6 is Sunday"
   ]
  },
  {
   "cell_type": "code",
   "execution_count": 30,
   "metadata": {},
   "outputs": [
    {
     "data": {
      "text/plain": [
       "['backers_count',\n",
       " 'blurb',\n",
       " 'category',\n",
       " 'converted_pledged_amount',\n",
       " 'country',\n",
       " 'country_displayable_name',\n",
       " 'created_at',\n",
       " 'creator',\n",
       " 'currency',\n",
       " 'currency_symbol',\n",
       " 'currency_trailing_code',\n",
       " 'current_currency',\n",
       " 'deadline',\n",
       " 'disable_communication',\n",
       " 'friends',\n",
       " 'fx_rate',\n",
       " 'goal',\n",
       " 'id',\n",
       " 'is_backing',\n",
       " 'is_starrable',\n",
       " 'is_starred',\n",
       " 'launched_at',\n",
       " 'location',\n",
       " 'name',\n",
       " 'permissions',\n",
       " 'photo',\n",
       " 'pledged',\n",
       " 'profile',\n",
       " 'slug',\n",
       " 'source_url',\n",
       " 'spotlight',\n",
       " 'staff_pick',\n",
       " 'state',\n",
       " 'state_changed_at',\n",
       " 'static_usd_rate',\n",
       " 'urls',\n",
       " 'usd_pledged',\n",
       " 'usd_type',\n",
       " 'cat_dict',\n",
       " 'sub_category',\n",
       " 'Success',\n",
       " 'Failure',\n",
       " 'design_duration_days',\n",
       " 'campaign_duration_days',\n",
       " 'launch_day',\n",
       " 'launch_month',\n",
       " 'launch_DOW',\n",
       " 'goal_usd',\n",
       " 'blurb_readability_score']"
      ]
     },
     "execution_count": 30,
     "metadata": {},
     "output_type": "execute_result"
    }
   ],
   "source": [
    "list(input.columns)"
   ]
  },
  {
   "cell_type": "code",
   "execution_count": 31,
   "metadata": {},
   "outputs": [
    {
     "data": {
      "text/plain": [
       "['category',\n",
       " 'country',\n",
       " 'design_duration_days',\n",
       " 'campaign_duration_days',\n",
       " 'launch_day',\n",
       " 'launch_month',\n",
       " 'launch_DOW',\n",
       " 'goal_usd',\n",
       " 'blurb_readability_score']"
      ]
     },
     "execution_count": 31,
     "metadata": {},
     "output_type": "execute_result"
    }
   ],
   "source": [
    "# Creating datasets for modelling \n",
    "X = input[[ 'category', 'country', 'sub_category', 'design_duration_days', 'campaign_duration_days', 'launch_day', 'launch_month', 'launch_DOW', 'goal_usd', 'blurb_readability_score']]\n",
    "X = X.drop(columns =['sub_category'])\n",
    "y  = input[['Success']]\n",
    "list(X.columns)"
   ]
  },
  {
   "cell_type": "code",
   "execution_count": 32,
   "metadata": {},
   "outputs": [],
   "source": [
    "X = pd.get_dummies(X, columns = ['category','country'])"
   ]
  },
  {
   "cell_type": "code",
   "execution_count": 33,
   "metadata": {
    "scrolled": true
   },
   "outputs": [
    {
     "data": {
      "text/plain": [
       "['design_duration_days',\n",
       " 'campaign_duration_days',\n",
       " 'launch_day',\n",
       " 'launch_month',\n",
       " 'launch_DOW',\n",
       " 'goal_usd',\n",
       " 'blurb_readability_score',\n",
       " 'category_Art',\n",
       " 'category_Comics',\n",
       " 'category_Crafts',\n",
       " 'category_Dance',\n",
       " 'category_Design',\n",
       " 'category_Fashion',\n",
       " 'category_Film & Video',\n",
       " 'category_Food',\n",
       " 'category_Games',\n",
       " 'category_Journalism',\n",
       " 'category_Music',\n",
       " 'category_Photography',\n",
       " 'category_Publishing',\n",
       " 'category_Technology',\n",
       " 'category_Theater',\n",
       " 'country_AT',\n",
       " 'country_AU',\n",
       " 'country_BE',\n",
       " 'country_CA',\n",
       " 'country_CH',\n",
       " 'country_DE',\n",
       " 'country_DK',\n",
       " 'country_ES',\n",
       " 'country_FR',\n",
       " 'country_GB',\n",
       " 'country_HK',\n",
       " 'country_IE',\n",
       " 'country_IT',\n",
       " 'country_JP',\n",
       " 'country_LU',\n",
       " 'country_MX',\n",
       " 'country_NL',\n",
       " 'country_NO',\n",
       " 'country_NZ',\n",
       " 'country_SE',\n",
       " 'country_SG',\n",
       " 'country_US']"
      ]
     },
     "execution_count": 33,
     "metadata": {},
     "output_type": "execute_result"
    }
   ],
   "source": [
    "# There are ~45 columns for this data file at the time of writing this comment, might change with the dataset\n",
    "list(X.columns)"
   ]
  },
  {
   "cell_type": "code",
   "execution_count": 34,
   "metadata": {},
   "outputs": [],
   "source": [
    "# Storing Column names since we will convert the factors to a matrix \n",
    "X_cols = X.columns\n",
    "#X = np.array(X)\n",
    "#y = np.array(y)"
   ]
  },
  {
   "cell_type": "code",
   "execution_count": null,
   "metadata": {},
   "outputs": [],
   "source": []
  },
  {
   "cell_type": "code",
   "execution_count": 35,
   "metadata": {},
   "outputs": [],
   "source": [
    "# Test Train split with 30% as test set\n",
    "X_train, X_test, y_train, y_test = train_test_split(X, y, test_size = 0.2, random_state = 710, stratify = y)"
   ]
  },
  {
   "cell_type": "code",
   "execution_count": 36,
   "metadata": {},
   "outputs": [
    {
     "data": {
      "text/plain": [
       "37200"
      ]
     },
     "execution_count": 36,
     "metadata": {},
     "output_type": "execute_result"
    }
   ],
   "source": [
    "len(y_test)"
   ]
  },
  {
   "cell_type": "code",
   "execution_count": 37,
   "metadata": {},
   "outputs": [],
   "source": [
    "# TRY THIS\n",
    "# import statsmodels.api as sm\n",
    "#logit_model=sm.Logit(y,X)"
   ]
  },
  {
   "cell_type": "markdown",
   "metadata": {},
   "source": [
    "### Model 1- Simple Logistic : Model Training"
   ]
  },
  {
   "cell_type": "code",
   "execution_count": 38,
   "metadata": {},
   "outputs": [
    {
     "data": {
      "text/plain": [
       "LogisticRegression(C=1.0, class_weight=None, dual=False, fit_intercept=True,\n",
       "                   intercept_scaling=1, l1_ratio=None, max_iter=100,\n",
       "                   multi_class='warn', n_jobs=None, penalty='l2',\n",
       "                   random_state=None, solver='lbfgs', tol=0.0001, verbose=0,\n",
       "                   warm_start=False)"
      ]
     },
     "execution_count": 38,
     "metadata": {},
     "output_type": "execute_result"
    }
   ],
   "source": [
    "# Training a simple logistic regression model\n",
    "logistic_mod = LogisticRegression(penalty = 'l2', solver = 'lbfgs')\n",
    "logistic_mod.fit(X_train, y_train['Success'])"
   ]
  },
  {
   "cell_type": "markdown",
   "metadata": {},
   "source": [
    "### Model 1- Simple Logistic : Model Evaluation"
   ]
  },
  {
   "cell_type": "code",
   "execution_count": 39,
   "metadata": {},
   "outputs": [
    {
     "data": {
      "text/plain": [
       "0.6114075647194817"
      ]
     },
     "execution_count": 39,
     "metadata": {},
     "output_type": "execute_result"
    }
   ],
   "source": [
    "# In sampling accuracy score\n",
    "logistic_mod.score(X_train, y_train['Success'])"
   ]
  },
  {
   "cell_type": "code",
   "execution_count": 40,
   "metadata": {
    "scrolled": true
   },
   "outputs": [
    {
     "data": {
      "text/plain": [
       "0.6105913978494624"
      ]
     },
     "execution_count": 40,
     "metadata": {},
     "output_type": "execute_result"
    }
   ],
   "source": [
    "# Out sampling accuracy score\n",
    "logistic_mod.score(X_test, y_test['Success'])"
   ]
  },
  {
   "cell_type": "code",
   "execution_count": 41,
   "metadata": {},
   "outputs": [
    {
     "data": {
      "text/html": [
       "<div>\n",
       "<style scoped>\n",
       "    .dataframe tbody tr th:only-of-type {\n",
       "        vertical-align: middle;\n",
       "    }\n",
       "\n",
       "    .dataframe tbody tr th {\n",
       "        vertical-align: top;\n",
       "    }\n",
       "\n",
       "    .dataframe thead th {\n",
       "        text-align: right;\n",
       "    }\n",
       "</style>\n",
       "<table border=\"1\" class=\"dataframe\">\n",
       "  <thead>\n",
       "    <tr style=\"text-align: right;\">\n",
       "      <th></th>\n",
       "      <th>design_duration_days</th>\n",
       "      <th>campaign_duration_days</th>\n",
       "      <th>launch_day</th>\n",
       "      <th>launch_month</th>\n",
       "      <th>launch_DOW</th>\n",
       "      <th>goal_usd</th>\n",
       "      <th>blurb_readability_score</th>\n",
       "      <th>category_Art</th>\n",
       "      <th>category_Comics</th>\n",
       "      <th>category_Crafts</th>\n",
       "      <th>...</th>\n",
       "      <th>country_IT</th>\n",
       "      <th>country_JP</th>\n",
       "      <th>country_LU</th>\n",
       "      <th>country_MX</th>\n",
       "      <th>country_NL</th>\n",
       "      <th>country_NO</th>\n",
       "      <th>country_NZ</th>\n",
       "      <th>country_SE</th>\n",
       "      <th>country_SG</th>\n",
       "      <th>country_US</th>\n",
       "    </tr>\n",
       "  </thead>\n",
       "  <tbody>\n",
       "    <tr>\n",
       "      <th>0</th>\n",
       "      <td>0.000947</td>\n",
       "      <td>-0.012642</td>\n",
       "      <td>0.008004</td>\n",
       "      <td>0.039376</td>\n",
       "      <td>0.003112</td>\n",
       "      <td>-0.000015</td>\n",
       "      <td>0.004877</td>\n",
       "      <td>0.000191</td>\n",
       "      <td>0.004024</td>\n",
       "      <td>-0.002951</td>\n",
       "      <td>...</td>\n",
       "      <td>-0.001088</td>\n",
       "      <td>0.000012</td>\n",
       "      <td>0.000005</td>\n",
       "      <td>-0.000703</td>\n",
       "      <td>-0.000462</td>\n",
       "      <td>-0.000103</td>\n",
       "      <td>-0.000029</td>\n",
       "      <td>-0.000139</td>\n",
       "      <td>0.000069</td>\n",
       "      <td>0.009683</td>\n",
       "    </tr>\n",
       "  </tbody>\n",
       "</table>\n",
       "<p>1 rows × 44 columns</p>\n",
       "</div>"
      ],
      "text/plain": [
       "   design_duration_days  campaign_duration_days  launch_day  launch_month  \\\n",
       "0              0.000947               -0.012642    0.008004      0.039376   \n",
       "\n",
       "   launch_DOW  goal_usd  blurb_readability_score  category_Art  \\\n",
       "0    0.003112 -0.000015                 0.004877      0.000191   \n",
       "\n",
       "   category_Comics  category_Crafts  ...  country_IT  country_JP  country_LU  \\\n",
       "0         0.004024        -0.002951  ...   -0.001088    0.000012    0.000005   \n",
       "\n",
       "   country_MX  country_NL  country_NO  country_NZ  country_SE  country_SG  \\\n",
       "0   -0.000703   -0.000462   -0.000103   -0.000029   -0.000139    0.000069   \n",
       "\n",
       "   country_US  \n",
       "0    0.009683  \n",
       "\n",
       "[1 rows x 44 columns]"
      ]
     },
     "execution_count": 41,
     "metadata": {},
     "output_type": "execute_result"
    }
   ],
   "source": [
    "# Coefficient values for all factors\n",
    "pd.DataFrame(list(logistic_mod.coef_), columns = X_cols)"
   ]
  },
  {
   "cell_type": "code",
   "execution_count": 42,
   "metadata": {},
   "outputs": [],
   "source": [
    "# Making predictions on the test set\n",
    "y_pred = logistic_mod.predict(X_test)\n"
   ]
  },
  {
   "cell_type": "code",
   "execution_count": 43,
   "metadata": {},
   "outputs": [
    {
     "name": "stdout",
     "output_type": "stream",
     "text": [
      "Test set split: Counter({1: 20038, 0: 17162})\n",
      "Proportion of positives in test set is: 0.5386559139784947 \n",
      "\n",
      "Predictions split: Counter({1: 26602, 0: 10598})\n",
      "Proportion of positives in prediction is: 0.7151075268817204 \n",
      "\n",
      "True Negative: 6637 |False Positive: 10525 |False Negative: 3961 |True Positive: 16077 \n",
      "\n",
      "True Positive Rate: 0.8023255813953488\n",
      "True Negative Rate: 0.38672648875422444\n"
     ]
    }
   ],
   "source": [
    "\n",
    "\n",
    "import collections\n",
    "test_counter = collections.Counter(y_test['Success'])\n",
    "print( 'Test set split:', test_counter)\n",
    "print('Proportion of positives in test set is:', test_counter[1]/(test_counter[1] + test_counter[0]), '\\n')\n",
    "counter = collections.Counter(y_pred)\n",
    "\n",
    "print( 'Predictions split:', counter)\n",
    "print('Proportion of positives in prediction is:', counter[1]/(counter[1] + counter[0]), '\\n')\n",
    "tn, fp, fn, tp = sk_metrics.confusion_matrix(y_test, y_pred).ravel()\n",
    "\n",
    "print('True Negative:',tn,'|False Positive:',fp, '|False Negative:', fn,'|True Positive:', tp, '\\n')\n",
    "print('True Positive Rate:', tp/ (tp + fn))\n",
    "print('True Negative Rate:', tn/ (tn + fp))"
   ]
  },
  {
   "cell_type": "markdown",
   "metadata": {},
   "source": [
    "### Neural Networks - 68.3% accuracy on test data"
   ]
  },
  {
   "cell_type": "code",
   "execution_count": 44,
   "metadata": {
    "scrolled": false
   },
   "outputs": [
    {
     "name": "stdout",
     "output_type": "stream",
     "text": [
      "_____________ RESULTS WITH LEARNING RATE = 0.001 _________________\n",
      "WARNING:tensorflow:From C:\\Users\\valla\\Anaconda3\\lib\\site-packages\\keras\\backend\\tensorflow_backend.py:3172: add_dispatch_support.<locals>.wrapper (from tensorflow.python.ops.array_ops) is deprecated and will be removed in a future version.\n",
      "Instructions for updating:\n",
      "Use tf.where in 2.0, which has the same broadcast rule as np.where\n",
      "WARNING:tensorflow:From C:\\Users\\valla\\Anaconda3\\lib\\site-packages\\keras\\backend\\tensorflow_backend.py:422: The name tf.global_variables is deprecated. Please use tf.compat.v1.global_variables instead.\n",
      "\n",
      "Train on 104157 samples, validate on 44639 samples\n",
      "Epoch 1/30\n",
      "104157/104157 [==============================] - 24s 228us/step - loss: 0.7432 - accuracy: 0.5994 - sensitivity_at_specificity_1: 0.5925 - val_loss: 0.6469 - val_accuracy: 0.6256 - val_sensitivity_at_specificity_1: 0.6599\n",
      "Epoch 2/30\n",
      "104157/104157 [==============================] - 22s 214us/step - loss: 0.6561 - accuracy: 0.6084 - sensitivity_at_specificity_1: 0.6152 - val_loss: 0.6641 - val_accuracy: 0.6062 - val_sensitivity_at_specificity_1: 0.6164\n",
      "Epoch 3/30\n",
      "104157/104157 [==============================] - 22s 214us/step - loss: 0.6451 - accuracy: 0.6265 - sensitivity_at_specificity_1: 0.6573 - val_loss: 0.6338 - val_accuracy: 0.6450 - val_sensitivity_at_specificity_1: 0.6796\n",
      "Epoch 4/30\n",
      "104157/104157 [==============================] - 22s 216us/step - loss: 0.6424 - accuracy: 0.6340 - sensitivity_at_specificity_1: 0.6672 - val_loss: 0.6239 - val_accuracy: 0.6536 - val_sensitivity_at_specificity_1: 0.7036\n",
      "Epoch 5/30\n",
      "104157/104157 [==============================] - 23s 218us/step - loss: 0.6398 - accuracy: 0.6377 - sensitivity_at_specificity_1: 0.6705 - val_loss: 0.6302 - val_accuracy: 0.6555 - val_sensitivity_at_specificity_1: 0.7017\n",
      "Epoch 6/30\n",
      "104157/104157 [==============================] - 22s 214us/step - loss: 0.6280 - accuracy: 0.6542 - sensitivity_at_specificity_1: 0.7044 - val_loss: 0.6235 - val_accuracy: 0.6562 - val_sensitivity_at_specificity_1: 0.7119\n",
      "Epoch 7/30\n",
      "104157/104157 [==============================] - 23s 216us/step - loss: 0.6231 - accuracy: 0.6588 - sensitivity_at_specificity_1: 0.7128 - val_loss: 0.6230 - val_accuracy: 0.6559 - val_sensitivity_at_specificity_1: 0.7029\n",
      "Epoch 8/30\n",
      "104157/104157 [==============================] - 22s 215us/step - loss: 0.6268 - accuracy: 0.6642 - sensitivity_at_specificity_1: 0.7246 - val_loss: 0.6254 - val_accuracy: 0.6617 - val_sensitivity_at_specificity_1: 0.7142\n",
      "Epoch 9/30\n",
      "104157/104157 [==============================] - 22s 215us/step - loss: 0.6169 - accuracy: 0.6656 - sensitivity_at_specificity_1: 0.7235 - val_loss: 0.6076 - val_accuracy: 0.6719 - val_sensitivity_at_specificity_1: 0.7380\n",
      "Epoch 10/30\n",
      "104157/104157 [==============================] - 23s 217us/step - loss: 0.6124 - accuracy: 0.6721 - sensitivity_at_specificity_1: 0.7347 - val_loss: 0.6099 - val_accuracy: 0.6695 - val_sensitivity_at_specificity_1: 0.7332\n",
      "Epoch 11/30\n",
      "104157/104157 [==============================] - 23s 217us/step - loss: 0.6092 - accuracy: 0.6728 - sensitivity_at_specificity_1: 0.7355 - val_loss: 0.6442 - val_accuracy: 0.6542 - val_sensitivity_at_specificity_1: 0.7075\n",
      "Epoch 12/30\n",
      "104157/104157 [==============================] - 22s 216us/step - loss: 0.6078 - accuracy: 0.6726 - sensitivity_at_specificity_1: 0.7374 - val_loss: 0.6067 - val_accuracy: 0.6776 - val_sensitivity_at_specificity_1: 0.7449\n",
      "Epoch 13/30\n",
      "104157/104157 [==============================] - 23s 217us/step - loss: 0.6044 - accuracy: 0.6766 - sensitivity_at_specificity_1: 0.7425 - val_loss: 0.6005 - val_accuracy: 0.6780 - val_sensitivity_at_specificity_1: 0.7502\n",
      "Epoch 14/30\n",
      "104157/104157 [==============================] - 23s 218us/step - loss: 0.6053 - accuracy: 0.6746 - sensitivity_at_specificity_1: 0.7443 - val_loss: 0.5967 - val_accuracy: 0.6800 - val_sensitivity_at_specificity_1: 0.7539\n",
      "Epoch 15/30\n",
      "104157/104157 [==============================] - 23s 219us/step - loss: 0.6045 - accuracy: 0.6768 - sensitivity_at_specificity_1: 0.7447 - val_loss: 0.5980 - val_accuracy: 0.6820 - val_sensitivity_at_specificity_1: 0.7592\n",
      "Epoch 16/30\n",
      "104157/104157 [==============================] - 24s 226us/step - loss: 0.6001 - accuracy: 0.6781 - sensitivity_at_specificity_1: 0.7472 - val_loss: 0.6005 - val_accuracy: 0.6760 - val_sensitivity_at_specificity_1: 0.7462\n",
      "Epoch 17/30\n",
      "104157/104157 [==============================] - 23s 218us/step - loss: 0.6006 - accuracy: 0.6804 - sensitivity_at_specificity_1: 0.7490 - val_loss: 0.5962 - val_accuracy: 0.6806 - val_sensitivity_at_specificity_1: 0.7520\n",
      "Epoch 18/30\n",
      "104157/104157 [==============================] - 23s 224us/step - loss: 0.6061 - accuracy: 0.6801 - sensitivity_at_specificity_1: 0.7528 - val_loss: 0.5968 - val_accuracy: 0.6790 - val_sensitivity_at_specificity_1: 0.7511\n",
      "Epoch 19/30\n",
      "104157/104157 [==============================] - 23s 217us/step - loss: 0.5982 - accuracy: 0.6788 - sensitivity_at_specificity_1: 0.7514 - val_loss: 0.5917 - val_accuracy: 0.6855 - val_sensitivity_at_specificity_1: 0.7650\n",
      "Epoch 20/30\n",
      "104157/104157 [==============================] - 23s 219us/step - loss: 0.5967 - accuracy: 0.6812 - sensitivity_at_specificity_1: 0.7542 - val_loss: 0.5936 - val_accuracy: 0.6816 - val_sensitivity_at_specificity_1: 0.7560\n",
      "Epoch 21/30\n",
      "104157/104157 [==============================] - 23s 223us/step - loss: 0.5953 - accuracy: 0.6835 - sensitivity_at_specificity_1: 0.7587 - val_loss: 0.6168 - val_accuracy: 0.6549 - val_sensitivity_at_specificity_1: 0.7147\n",
      "Epoch 22/30\n",
      "104157/104157 [==============================] - 23s 219us/step - loss: 0.5954 - accuracy: 0.6819 - sensitivity_at_specificity_1: 0.7570 - val_loss: 0.6026 - val_accuracy: 0.6749 - val_sensitivity_at_specificity_1: 0.7430\n",
      "Epoch 23/30\n",
      "104157/104157 [==============================] - 23s 220us/step - loss: 0.5972 - accuracy: 0.6812 - sensitivity_at_specificity_1: 0.7532 - val_loss: 0.5975 - val_accuracy: 0.6844 - val_sensitivity_at_specificity_1: 0.7577\n"
     ]
    }
   ],
   "source": [
    "n_cols = X_train.shape[1]\n",
    "target = to_categorical(y_train['Success'])\n",
    "early_stopping_callback = EarlyStopping(patience = 4)\n",
    "\n",
    "def get_nn_model():\n",
    "    model = Sequential()\n",
    "    model.add(Dense(300, activation = 'relu', input_shape =(n_cols,)))\n",
    "    model.add(Dense(300, activation = 'relu'))\n",
    "    model.add(Dense(300, activation = 'relu'))\n",
    "    model.add(Dense(300, activation = 'relu'))\n",
    "    model.add(Dense(300, activation = 'relu'))\n",
    "    model.add(Dense(300, activation = 'relu'))\n",
    "    model.add(Dense(300, activation = 'relu'))\n",
    "    model.add(Dense(300, activation = 'relu'))\n",
    "    model.add(Dense(300, activation = 'relu'))\n",
    "    model.add(Dense(300, activation = 'relu'))\n",
    "    model.add(Dense(300, activation = 'relu'))\n",
    "    model.add(Dense(300, activation = 'relu'))\n",
    "    model.add(Dense(300, activation = 'relu'))\n",
    "    model.add(Dense(300, activation = 'relu'))\n",
    "    model.add(Dense(300, activation = 'relu'))\n",
    "    model.add(Dense(300, activation = 'relu'))\n",
    "    model.add(Dense(2, activation = 'softmax'))\n",
    "    return(model)\n",
    "\n",
    "#learning_rates =[0.000001, 0.0001, 0.001, 0.01, 0.1, 1]\n",
    "# learning_rates =[0.00001, 0.0001, 0.001]\n",
    "learning_rates =[0.001]\n",
    "# Loop over learning rates\n",
    "for lr in learning_rates:\n",
    "    model = get_nn_model()\n",
    "    print('_____________ RESULTS WITH LEARNING RATE =', lr,'_________________')\n",
    "    optimizer = Adam(learning_rate = lr)\n",
    "    model.compile(optimizer = optimizer, loss = 'categorical_crossentropy', metrics = ['accuracy', metrics.SensitivityAtSpecificity(0.6)])\n",
    "    model.fit(X_train, target, validation_split = 0.3, epochs = 30, callbacks = [early_stopping_callback])\n",
    "    "
   ]
  },
  {
   "cell_type": "code",
   "execution_count": 45,
   "metadata": {},
   "outputs": [
    {
     "name": "stdout",
     "output_type": "stream",
     "text": [
      "37200/37200 [==============================] - 3s 68us/step\n"
     ]
    },
    {
     "data": {
      "text/plain": [
       "[0.5978465380719913, 0.6832258105278015, 0.762231171131134]"
      ]
     },
     "execution_count": 45,
     "metadata": {},
     "output_type": "execute_result"
    }
   ],
   "source": [
    "target_test = to_categorical(y_test['Success'])\n",
    "model.evaluate(X_test, target_test)\n"
   ]
  },
  {
   "cell_type": "code",
   "execution_count": 46,
   "metadata": {},
   "outputs": [],
   "source": [
    "model.save(\"17_Hidden_Non_Text.h5\")"
   ]
  },
  {
   "cell_type": "code",
   "execution_count": 47,
   "metadata": {},
   "outputs": [
    {
     "data": {
      "text/plain": [
       "array([[0.70214915, 0.29785085],\n",
       "       [0.3987394 , 0.60126066],\n",
       "       [0.22621034, 0.77378964],\n",
       "       ...,\n",
       "       [0.2996707 , 0.70032936],\n",
       "       [0.260278  , 0.7397221 ],\n",
       "       [0.20262295, 0.7973771 ]], dtype=float32)"
      ]
     },
     "execution_count": 47,
     "metadata": {},
     "output_type": "execute_result"
    }
   ],
   "source": [
    "model.predict(X_test)"
   ]
  },
  {
   "cell_type": "code",
   "execution_count": 48,
   "metadata": {
    "scrolled": true
   },
   "outputs": [],
   "source": [
    "\n",
    "y_pred_keras = model.predict(X_test)[:,1]\n",
    "fpr_keras, tpr_keras, thresholds_keras = sk_metrics.roc_curve(y_test['Success'], y_pred_keras)\n",
    "auc_keras = sk_metrics.auc(fpr_keras, tpr_keras)"
   ]
  },
  {
   "cell_type": "code",
   "execution_count": 49,
   "metadata": {},
   "outputs": [
    {
     "data": {
      "image/png": "[encoded data removed]",
      "text/plain": [
       "<Figure size 432x288 with 1 Axes>"
      ]
     },
     "metadata": {
      "needs_background": "light"
     },
     "output_type": "display_data"
    }
   ],
   "source": [
    "plt.figure(1)\n",
    "plt.plot([0, 1], [0, 1], 'k--')\n",
    "plt.plot(fpr_keras, tpr_keras, label='Keras (area = {:.3f})'.format(auc_keras))\n",
    "plt.xlabel('False positive rate')\n",
    "plt.ylabel('True positive rate')\n",
    "plt.title('ROC curve')\n",
    "plt.legend(loc='best')\n",
    "plt.show()"
   ]
  },
  {
   "cell_type": "code",
   "execution_count": 50,
   "metadata": {},
   "outputs": [],
   "source": [
    "plt.plot?"
   ]
  },
  {
   "cell_type": "code",
   "execution_count": 51,
   "metadata": {},
   "outputs": [
    {
     "name": "stdout",
     "output_type": "stream",
     "text": [
      "37200/37200 [==============================] - 3s 68us/step\n"
     ]
    },
    {
     "data": {
      "text/plain": [
       "[0.5978465380719913, 0.6832258105278015, 0.762231171131134]"
      ]
     },
     "execution_count": 51,
     "metadata": {},
     "output_type": "execute_result"
    }
   ],
   "source": [
    "target_test = to_categorical(y_test['Success'])\n",
    "text_model = load_model('17_Hidden_Non_Text.h5', compile = False)\n",
    "text_model.compile(optimizer = optimizer, loss = 'categorical_crossentropy', metrics = ['accuracy', metrics.SensitivityAtSpecificity(0.6)])\n",
    "text_model.evaluate(X_test, target_test)"
   ]
  },
  {
   "cell_type": "markdown",
   "metadata": {},
   "source": [
    "### Neural Network including Bag-Of-Words features"
   ]
  },
  {
   "cell_type": "code",
   "execution_count": 52,
   "metadata": {},
   "outputs": [],
   "source": [
    "#Loading the Bag of Words features from disk\n",
    "X_text_features = np.load('Data/X_textfeatures.npy')\n",
    "X_master = np.concatenate((X, X_text_features), axis = 1)"
   ]
  },
  {
   "cell_type": "code",
   "execution_count": 53,
   "metadata": {},
   "outputs": [],
   "source": [
    "X_train, X_test,y_train, y_test = train_test_split(X_master, y, test_size = 0.2, random_state = 710, stratify = y)"
   ]
  },
  {
   "cell_type": "code",
   "execution_count": 54,
   "metadata": {
    "scrolled": false
   },
   "outputs": [
    {
     "name": "stdout",
     "output_type": "stream",
     "text": [
      "_____________ RESULTS WITH LEARNING RATE = 0.001 _________________\n",
      "Train on 104157 samples, validate on 44639 samples\n",
      "Epoch 1/30\n",
      "104157/104157 [==============================] - 39s 375us/step - loss: 0.6980 - accuracy: 0.5984 - sensitivity_at_specificity_3: 0.5913 - val_loss: 0.6579 - val_accuracy: 0.6076 - val_sensitivity_at_specificity_3: 0.6101\n",
      "Epoch 2/30\n",
      "104157/104157 [==============================] - 39s 370us/step - loss: 0.6541 - accuracy: 0.6108 - sensitivity_at_specificity_3: 0.6186 - val_loss: 0.6264 - val_accuracy: 0.6539 - val_sensitivity_at_specificity_3: 0.7045\n",
      "Epoch 3/30\n",
      "104157/104157 [==============================] - 40s 381us/step - loss: 0.6286 - accuracy: 0.6506 - sensitivity_at_specificity_3: 0.7017 - val_loss: 0.6092 - val_accuracy: 0.6866 - val_sensitivity_at_specificity_3: 0.7551\n",
      "Epoch 4/30\n",
      "104157/104157 [==============================] - 40s 389us/step - loss: 0.6142 - accuracy: 0.6688 - sensitivity_at_specificity_3: 0.7288 - val_loss: 0.6108 - val_accuracy: 0.6757 - val_sensitivity_at_specificity_3: 0.7416\n",
      "Epoch 5/30\n",
      "104157/104157 [==============================] - 41s 390us/step - loss: 0.6015 - accuracy: 0.6779 - sensitivity_at_specificity_3: 0.7471 - val_loss: 0.6038 - val_accuracy: 0.6851 - val_sensitivity_at_specificity_3: 0.7619\n",
      "Epoch 6/30\n",
      "104157/104157 [==============================] - 40s 384us/step - loss: 0.6137 - accuracy: 0.6690 - sensitivity_at_specificity_3: 0.7338 - val_loss: 0.6264 - val_accuracy: 0.6766 - val_sensitivity_at_specificity_3: 0.7456\n",
      "Epoch 7/30\n",
      "104157/104157 [==============================] - 39s 378us/step - loss: 0.6190 - accuracy: 0.6578 - sensitivity_at_specificity_3: 0.7149 - val_loss: 0.6156 - val_accuracy: 0.6558 - val_sensitivity_at_specificity_3: 0.7106\n",
      "Epoch 8/30\n",
      "104157/104157 [==============================] - 39s 371us/step - loss: 0.5895 - accuracy: 0.6892 - sensitivity_at_specificity_3: 0.7676 - val_loss: 0.5814 - val_accuracy: 0.6897 - val_sensitivity_at_specificity_3: 0.7721\n",
      "Epoch 9/30\n",
      "104157/104157 [==============================] - 39s 370us/step - loss: 0.6033 - accuracy: 0.6714 - sensitivity_at_specificity_3: 0.7356 - val_loss: 0.6098 - val_accuracy: 0.6600 - val_sensitivity_at_specificity_3: 0.7226\n",
      "Epoch 10/30\n",
      "104157/104157 [==============================] - 39s 370us/step - loss: 0.5962 - accuracy: 0.6827 - sensitivity_at_specificity_3: 0.7609 - val_loss: 0.5771 - val_accuracy: 0.7030 - val_sensitivity_at_specificity_3: 0.7886\n",
      "Epoch 11/30\n",
      "104157/104157 [==============================] - 39s 375us/step - loss: 0.5694 - accuracy: 0.7047 - sensitivity_at_specificity_3: 0.7917 - val_loss: 0.5639 - val_accuracy: 0.7088 - val_sensitivity_at_specificity_3: 0.8052\n",
      "Epoch 12/30\n",
      "104157/104157 [==============================] - 39s 372us/step - loss: 0.5651 - accuracy: 0.7089 - sensitivity_at_specificity_3: 0.7992 - val_loss: 0.5895 - val_accuracy: 0.6948 - val_sensitivity_at_specificity_3: 0.7780\n",
      "Epoch 13/30\n",
      "104157/104157 [==============================] - 39s 371us/step - loss: 0.5591 - accuracy: 0.7101 - sensitivity_at_specificity_3: 0.8056 - val_loss: 0.6406 - val_accuracy: 0.6259 - val_sensitivity_at_specificity_3: 0.6514\n",
      "Epoch 14/30\n",
      "104157/104157 [==============================] - 39s 372us/step - loss: 0.5690 - accuracy: 0.7028 - sensitivity_at_specificity_3: 0.7942 - val_loss: 0.6045 - val_accuracy: 0.6791 - val_sensitivity_at_specificity_3: 0.7486\n",
      "Epoch 15/30\n",
      "104157/104157 [==============================] - 39s 372us/step - loss: 0.5548 - accuracy: 0.7144 - sensitivity_at_specificity_3: 0.8083 - val_loss: 0.5783 - val_accuracy: 0.6975 - val_sensitivity_at_specificity_3: 0.7819\n"
     ]
    }
   ],
   "source": [
    "n_cols = X_train.shape[1]\n",
    "target = to_categorical(y_train['Success'])\n",
    "early_stopping_callback = EarlyStopping(patience = 4)\n",
    "\n",
    "def get_nn_model():\n",
    "    model = Sequential()\n",
    "    model.add(Dense(2000, activation = 'relu', input_shape =(n_cols,)))\n",
    "    model.add(Dense(700, activation = 'relu'))\n",
    "    model.add(Dense(500, activation = 'relu'))\n",
    "    model.add(Dense(300, activation = 'relu'))\n",
    "    model.add(Dense(300, activation = 'relu'))\n",
    "    model.add(Dense(300, activation = 'relu'))\n",
    "    model.add(Dense(300, activation = 'relu'))\n",
    "    model.add(Dense(300, activation = 'relu'))\n",
    "    model.add(Dense(300, activation = 'relu'))\n",
    "    model.add(Dense(300, activation = 'relu'))\n",
    "    model.add(Dense(300, activation = 'relu'))\n",
    "    model.add(Dense(300, activation = 'relu'))\n",
    "    model.add(Dense(300, activation = 'relu'))\n",
    "    model.add(Dense(300, activation = 'relu'))\n",
    "    model.add(Dense(300, activation = 'relu'))\n",
    "    model.add(Dense(300, activation = 'relu'))\n",
    "    model.add(Dense(2, activation = 'softmax'))\n",
    "    return(model)\n",
    "\n",
    "#learning_rates =[0.000001, 0.0001, 0.001, 0.01, 0.1, 1]\n",
    "# learning_rates =[0.00001, 0.0001, 0.001]\n",
    "learning_rates =[0.001]\n",
    "# Loop over learning rates\n",
    "for lr in learning_rates:\n",
    "    model = get_nn_model()\n",
    "    print('_____________ RESULTS WITH LEARNING RATE =', lr,'_________________')\n",
    "    optimizer = Adam(learning_rate = lr)\n",
    "    model.compile(optimizer = optimizer, loss = 'categorical_crossentropy', metrics = ['accuracy', metrics.SensitivityAtSpecificity(0.6)])\n",
    "    model.fit(X_train, target, validation_split = 0.3, epochs = 30, callbacks = [early_stopping_callback])"
   ]
  },
  {
   "cell_type": "code",
   "execution_count": 55,
   "metadata": {},
   "outputs": [],
   "source": [
    "model.save(\"17_Hidden_Text.h5\")"
   ]
  },
  {
   "cell_type": "code",
   "execution_count": 56,
   "metadata": {},
   "outputs": [
    {
     "name": "stdout",
     "output_type": "stream",
     "text": [
      "37200/37200 [==============================] - 3s 89us/step\n"
     ]
    },
    {
     "data": {
      "text/plain": [
       "[0.5788993996958579, 0.696854829788208, 0.7822580933570862]"
      ]
     },
     "execution_count": 56,
     "metadata": {},
     "output_type": "execute_result"
    }
   ],
   "source": [
    "target_test = to_categorical(y_test['Success'])\n",
    "text_model = load_model('17_Hidden_Text.h5', compile = False)\n",
    "text_model.compile(optimizer = optimizer, loss = 'categorical_crossentropy', metrics = ['accuracy', metrics.SensitivityAtSpecificity(0.6)])\n",
    "text_model.evaluate(X_test, target_test)"
   ]
  },
  {
   "cell_type": "code",
   "execution_count": 57,
   "metadata": {},
   "outputs": [],
   "source": [
    "y_pred_keras = text_model.predict(X_test)[:,1]\n",
    "fpr_keras, tpr_keras, thresholds_keras = sk_metrics.roc_curve(y_test['Success'], y_pred_keras)\n",
    "auc_keras = sk_metrics.auc(fpr_keras, tpr_keras)"
   ]
  },
  {
   "cell_type": "code",
   "execution_count": 58,
   "metadata": {},
   "outputs": [
    {
     "data": {
      "image/png": "[encoded data removed]",
      "text/plain": [
       "<Figure size 432x288 with 1 Axes>"
      ]
     },
     "metadata": {
      "needs_background": "light"
     },
     "output_type": "display_data"
    }
   ],
   "source": [
    "plt.figure(1)\n",
    "plt.plot([0, 1], [0, 1], 'k--')\n",
    "plt.plot(fpr_keras, tpr_keras, label='Keras (area = {:.3f})'.format(auc_keras))\n",
    "plt.xlabel('False positive rate')\n",
    "plt.ylabel('True positive rate')\n",
    "plt.title('ROC curve')\n",
    "plt.legend(loc='best')\n",
    "plt.show()"
   ]
  },
  {
   "cell_type": "code",
   "execution_count": 59,
   "metadata": {},
   "outputs": [
    {
     "name": "stdout",
     "output_type": "stream",
     "text": [
      "_____________ RESULTS WITH LEARNING RATE = 0.001 _________________\n",
      "Train on 104157 samples, validate on 44639 samples\n",
      "Epoch 1/20\n",
      "104157/104157 [==============================] - 53s 504us/step - loss: 0.6910 - accuracy: 0.5919 - sensitivity_at_specificity_5: 0.5820 - val_loss: 0.6514 - val_accuracy: 0.6224 - val_sensitivity_at_specificity_5: 0.6388\n",
      "Epoch 2/20\n",
      "104157/104157 [==============================] - 52s 504us/step - loss: 0.6536 - accuracy: 0.6148 - sensitivity_at_specificity_5: 0.6343 - val_loss: 0.6439 - val_accuracy: 0.6249 - val_sensitivity_at_specificity_5: 0.6497\n",
      "Epoch 3/20\n",
      "104157/104157 [==============================] - 53s 511us/step - loss: 0.6628 - accuracy: 0.5975 - sensitivity_at_specificity_5: 0.5904 - val_loss: 0.6707 - val_accuracy: 0.5821 - val_sensitivity_at_specificity_5: 0.5639\n",
      "Epoch 4/20\n",
      "104157/104157 [==============================] - 52s 501us/step - loss: 0.6362 - accuracy: 0.6417 - sensitivity_at_specificity_5: 0.6818 - val_loss: 0.6532 - val_accuracy: 0.6111 - val_sensitivity_at_specificity_5: 0.6236\n",
      "Epoch 5/20\n",
      "104157/104157 [==============================] - 52s 501us/step - loss: 0.6263 - accuracy: 0.6520 - sensitivity_at_specificity_5: 0.6984 - val_loss: 0.6461 - val_accuracy: 0.6187 - val_sensitivity_at_specificity_5: 0.6402\n",
      "Epoch 6/20\n",
      "104157/104157 [==============================] - 52s 500us/step - loss: 0.6118 - accuracy: 0.6726 - sensitivity_at_specificity_5: 0.7377 - val_loss: 0.6249 - val_accuracy: 0.6348 - val_sensitivity_at_specificity_5: 0.6733ETA: 2s - loss: 0.6126 - accuracy: 0.6\n",
      "Epoch 7/20\n",
      "104157/104157 [==============================] - 52s 503us/step - loss: 0.6145 - accuracy: 0.6742 - sensitivity_at_specificity_5: 0.7452 - val_loss: 0.6553 - val_accuracy: 0.6117 - val_sensitivity_at_specificity_5: 0.6191\n",
      "Epoch 8/20\n",
      "104157/104157 [==============================] - 53s 508us/step - loss: 0.6179 - accuracy: 0.6639 - sensitivity_at_specificity_5: 0.7250 - val_loss: 0.6224 - val_accuracy: 0.6520 - val_sensitivity_at_specificity_5: 0.7111\n",
      "Epoch 9/20\n",
      "104157/104157 [==============================] - 55s 523us/step - loss: 0.6267 - accuracy: 0.6588 - sensitivity_at_specificity_5: 0.7131 - val_loss: 0.5867 - val_accuracy: 0.6999 - val_sensitivity_at_specificity_5: 0.7786\n",
      "Epoch 10/20\n",
      "104157/104157 [==============================] - 53s 508us/step - loss: 0.6099 - accuracy: 0.6705 - sensitivity_at_specificity_5: 0.7362 - val_loss: 0.5888 - val_accuracy: 0.6892 - val_sensitivity_at_specificity_5: 0.7717\n",
      "Epoch 11/20\n",
      "104157/104157 [==============================] - 53s 504us/step - loss: 0.5868 - accuracy: 0.6927 - sensitivity_at_specificity_5: 0.7744 - val_loss: 0.5734 - val_accuracy: 0.7047 - val_sensitivity_at_specificity_5: 0.7937\n",
      "Epoch 12/20\n",
      "104157/104157 [==============================] - 52s 503us/step - loss: 0.5878 - accuracy: 0.6911 - sensitivity_at_specificity_5: 0.7707 - val_loss: 0.5731 - val_accuracy: 0.7005 - val_sensitivity_at_specificity_5: 0.7905\n",
      "Epoch 13/20\n",
      "104157/104157 [==============================] - 53s 507us/step - loss: 0.5740 - accuracy: 0.7012 - sensitivity_at_specificity_5: 0.7863 - val_loss: 0.5840 - val_accuracy: 0.6886 - val_sensitivity_at_specificity_5: 0.7671\n",
      "Epoch 14/20\n",
      "104157/104157 [==============================] - 54s 521us/step - loss: 0.5769 - accuracy: 0.6970 - sensitivity_at_specificity_5: 0.7841 - val_loss: 0.5789 - val_accuracy: 0.6957 - val_sensitivity_at_specificity_5: 0.7891: 0.\n",
      "Epoch 15/20\n",
      "104157/104157 [==============================] - 55s 527us/step - loss: 0.5796 - accuracy: 0.6960 - sensitivity_at_specificity_5: 0.7815 - val_loss: 0.5796 - val_accuracy: 0.6986 - val_sensitivity_at_specificity_5: 0.7809\n",
      "Epoch 16/20\n",
      "104157/104157 [==============================] - 54s 515us/step - loss: 0.5684 - accuracy: 0.7071 - sensitivity_at_specificity_5: 0.7945 - val_loss: 0.5969 - val_accuracy: 0.6819 - val_sensitivity_at_specificity_5: 0.7546\n",
      "Epoch 17/20\n",
      "104157/104157 [==============================] - 53s 511us/step - loss: 0.5684 - accuracy: 0.7118 - sensitivity_at_specificity_5: 0.8036 - val_loss: 0.6117 - val_accuracy: 0.6613 - val_sensitivity_at_specificity_5: 0.7257\n",
      "Epoch 18/20\n",
      "104157/104157 [==============================] - 55s 526us/step - loss: 0.5532 - accuracy: 0.7167 - sensitivity_at_specificity_5: 0.8165 - val_loss: 0.5619 - val_accuracy: 0.7124 - val_sensitivity_at_specificity_5: 0.8083\n",
      "Epoch 19/20\n",
      "104157/104157 [==============================] - 54s 521us/step - loss: 0.6090 - accuracy: 0.7116 - sensitivity_at_specificity_5: 0.8044 - val_loss: 0.5592 - val_accuracy: 0.7172 - val_sensitivity_at_specificity_5: 0.8139\n",
      "Epoch 20/20\n",
      "104157/104157 [==============================] - 54s 521us/step - loss: 0.5452 - accuracy: 0.7239 - sensitivity_at_specificity_5: 0.8231 - val_loss: 0.5543 - val_accuracy: 0.7196 - val_sensitivity_at_specificity_5: 0.8197\n"
     ]
    }
   ],
   "source": [
    "early_stopping_callback = EarlyStopping(patience = 8)\n",
    "def get_nn_model():\n",
    "    model = Sequential()\n",
    "    model.add(Dense(2000, activation = 'relu', input_shape =(n_cols,)))\n",
    "    model.add(Dense(1000, activation = 'relu'))\n",
    "    model.add(Dense(700, activation = 'relu'))\n",
    "    model.add(Dense(700, activation = 'relu'))\n",
    "    model.add(Dense(600, activation = 'relu'))\n",
    "    model.add(Dense(500, activation = 'relu'))\n",
    "    model.add(Dense(400, activation = 'relu'))\n",
    "    model.add(Dense(300, activation = 'relu'))\n",
    "    model.add(Dense(300, activation = 'relu'))\n",
    "    model.add(Dense(300, activation = 'relu'))\n",
    "    model.add(Dense(300, activation = 'relu'))\n",
    "    model.add(Dense(300, activation = 'relu'))\n",
    "    model.add(Dense(300, activation = 'relu'))\n",
    "    model.add(Dense(300, activation = 'relu'))\n",
    "    model.add(Dense(300, activation = 'relu'))\n",
    "    model.add(Dense(300, activation = 'relu'))\n",
    "    model.add(Dense(300, activation = 'relu'))\n",
    "    model.add(Dense(300, activation = 'relu'))\n",
    "    model.add(Dense(300, activation = 'relu'))\n",
    "    model.add(Dense(300, activation = 'relu'))\n",
    "    model.add(Dense(300, activation = 'relu'))\n",
    "    model.add(Dense(300, activation = 'relu'))\n",
    "    model.add(Dense(300, activation = 'relu'))\n",
    "    model.add(Dense(300, activation = 'relu'))\n",
    "    model.add(Dense(2, activation = 'softmax'))\n",
    "    return(model)\n",
    "\n",
    "#learning_rates =[0.000001, 0.0001, 0.001, 0.01, 0.1, 1]\n",
    "#learning_rates =[0.0001, 0.001]\n",
    "learning_rates =[0.001]\n",
    "# Loop over learning rates\n",
    "for lr in learning_rates:\n",
    "    model = get_nn_model()\n",
    "    print('_____________ RESULTS WITH LEARNING RATE =', lr,'_________________')\n",
    "    optimizer = Adam(learning_rate = lr)\n",
    "    model.compile(optimizer = optimizer, loss = 'categorical_crossentropy', metrics = ['accuracy', metrics.SensitivityAtSpecificity(0.6)])\n",
    "    model.fit(X_train, target, validation_split = 0.3, epochs = 20, callbacks = [early_stopping_callback])"
   ]
  },
  {
   "cell_type": "code",
   "execution_count": 63,
   "metadata": {},
   "outputs": [
    {
     "name": "stdout",
     "output_type": "stream",
     "text": [
      "37200/37200 [==============================] - 4s 110us/step\n"
     ]
    },
    {
     "data": {
      "text/plain": [
       "[0.6901640666428432, 0.5386559367179871, 0.5386559367179871]"
      ]
     },
     "execution_count": 63,
     "metadata": {},
     "output_type": "execute_result"
    }
   ],
   "source": [
    "target_test = to_categorical(y_test['Success'])\n",
    "model.save(\"24_hidden_text.h5\")\n",
    "model.evaluate(X_test, target_test)\n"
   ]
  },
  {
   "cell_type": "code",
   "execution_count": 61,
   "metadata": {},
   "outputs": [
    {
     "name": "stdout",
     "output_type": "stream",
     "text": [
      "_____________ RESULTS WITH LEARNING RATE = 0.001 _________________\n",
      "Train on 104157 samples, validate on 44639 samples\n",
      "Epoch 1/20\n",
      "104157/104157 [==============================] - 60s 577us/step - loss: 0.6899 - accuracy: 0.5409 - sensitivity_at_specificity_6: 0.4578 - val_loss: 0.6904 - val_accuracy: 0.5381 - val_sensitivity_at_specificity_6: 0.5381\n",
      "Epoch 2/20\n",
      "104157/104157 [==============================] - 60s 578us/step - loss: 0.6902 - accuracy: 0.5389 - sensitivity_at_specificity_6: 0.5000 - val_loss: 0.6905 - val_accuracy: 0.5381 - val_sensitivity_at_specificity_6: 0.5381\n",
      "Epoch 3/20\n",
      "104157/104157 [==============================] - 60s 576us/step - loss: 0.6912 - accuracy: 0.5387 - sensitivity_at_specificity_6: 0.4717 - val_loss: 0.6903 - val_accuracy: 0.5381 - val_sensitivity_at_specificity_6: 0.5381\n",
      "Epoch 4/20\n",
      "104157/104157 [==============================] - 59s 571us/step - loss: 0.6902 - accuracy: 0.5389 - sensitivity_at_specificity_6: 0.4993 - val_loss: 0.6902 - val_accuracy: 0.5381 - val_sensitivity_at_specificity_6: 0.5381\n",
      "Epoch 5/20\n",
      "104157/104157 [==============================] - 62s 594us/step - loss: 0.6902 - accuracy: 0.5389 - sensitivity_at_specificity_6: 0.4611 - val_loss: 0.6903 - val_accuracy: 0.5381 - val_sensitivity_at_specificity_6: 0.5381\n",
      "Epoch 6/20\n",
      "104157/104157 [==============================] - 60s 574us/step - loss: 0.6902 - accuracy: 0.5389 - sensitivity_at_specificity_6: 0.5220 - val_loss: 0.6902 - val_accuracy: 0.5381 - val_sensitivity_at_specificity_6: 0.5381\n",
      "Epoch 7/20\n",
      "104157/104157 [==============================] - 59s 569us/step - loss: 0.6902 - accuracy: 0.5389 - sensitivity_at_specificity_6: 0.5010 - val_loss: 0.6902 - val_accuracy: 0.5381 - val_sensitivity_at_specificity_6: 0.5381\n",
      "Epoch 8/20\n",
      "104157/104157 [==============================] - 59s 570us/step - loss: 0.6902 - accuracy: 0.5389 - sensitivity_at_specificity_6: 0.4792 - val_loss: 0.6902 - val_accuracy: 0.5381 - val_sensitivity_at_specificity_6: 0.5381\n",
      "Epoch 9/20\n",
      "104157/104157 [==============================] - 60s 575us/step - loss: 0.6901 - accuracy: 0.5389 - sensitivity_at_specificity_6: 0.4818 - val_loss: 0.6904 - val_accuracy: 0.5381 - val_sensitivity_at_specificity_6: 0.5381\n",
      "Epoch 10/20\n",
      "104157/104157 [==============================] - 60s 576us/step - loss: 0.6901 - accuracy: 0.5389 - sensitivity_at_specificity_6: 0.4321 - val_loss: 0.6904 - val_accuracy: 0.5381 - val_sensitivity_at_specificity_6: 0.5381\n",
      "Epoch 11/20\n",
      "104157/104157 [==============================] - 61s 584us/step - loss: 0.6902 - accuracy: 0.5389 - sensitivity_at_specificity_6: 0.5011 - val_loss: 0.6902 - val_accuracy: 0.5381 - val_sensitivity_at_specificity_6: 0.5381rac - ETA: 0s - loss: 0.6902 - accuracy: 0.5388 - sensitivity_at_specificity_\n",
      "Epoch 12/20\n",
      "104157/104157 [==============================] - 61s 581us/step - loss: 0.6901 - accuracy: 0.5389 - sensitivity_at_specificity_6: 0.4810 - val_loss: 0.6902 - val_accuracy: 0.5381 - val_sensitivity_at_specificity_6: 0.5381\n",
      "Epoch 13/20\n",
      "104157/104157 [==============================] - 59s 568us/step - loss: 0.6901 - accuracy: 0.5389 - sensitivity_at_specificity_6: 0.4485 - val_loss: 0.6904 - val_accuracy: 0.5381 - val_sensitivity_at_specificity_6: 0.5381\n",
      "Epoch 14/20\n",
      "104157/104157 [==============================] - 59s 569us/step - loss: 0.6902 - accuracy: 0.5389 - sensitivity_at_specificity_6: 0.5058 - val_loss: 0.6903 - val_accuracy: 0.5381 - val_sensitivity_at_specificity_6: 0.5381\n",
      "Epoch 15/20\n",
      "104157/104157 [==============================] - 59s 564us/step - loss: 0.6902 - accuracy: 0.5389 - sensitivity_at_specificity_6: 0.5178 - val_loss: 0.6904 - val_accuracy: 0.5381 - val_sensitivity_at_specificity_6: 0.5381\n",
      "Epoch 16/20\n",
      "104157/104157 [==============================] - 59s 567us/step - loss: 0.6902 - accuracy: 0.5389 - sensitivity_at_specificity_6: 0.5307 - val_loss: 0.6903 - val_accuracy: 0.5381 - val_sensitivity_at_specificity_6: 0.5381\n",
      "Epoch 17/20\n",
      "104157/104157 [==============================] - 59s 567us/step - loss: 0.6902 - accuracy: 0.5389 - sensitivity_at_specificity_6: 0.5188 - val_loss: 0.6903 - val_accuracy: 0.5381 - val_sensitivity_at_specificity_6: 0.5381\n",
      "Epoch 18/20\n",
      "104157/104157 [==============================] - 59s 565us/step - loss: 0.6902 - accuracy: 0.5389 - sensitivity_at_specificity_6: 0.4646 - val_loss: 0.6903 - val_accuracy: 0.5381 - val_sensitivity_at_specificity_6: 0.5381\n",
      "Epoch 19/20\n",
      "104157/104157 [==============================] - 59s 568us/step - loss: 0.6902 - accuracy: 0.5389 - sensitivity_at_specificity_6: 0.5002 - val_loss: 0.6902 - val_accuracy: 0.5381 - val_sensitivity_at_specificity_6: 0.5381\n",
      "Epoch 20/20\n",
      "104157/104157 [==============================] - 60s 571us/step - loss: 0.6902 - accuracy: 0.5389 - sensitivity_at_specificity_6: 0.5156 - val_loss: 0.6902 - val_accuracy: 0.5381 - val_sensitivity_at_specificity_6: 0.5381\n"
     ]
    }
   ],
   "source": [
    "def get_nn_model():\n",
    "    model = Sequential()\n",
    "    model.add(Dense(2000, activation = 'relu', input_shape =(n_cols,)))\n",
    "    model.add(Dense(1000, activation = 'relu'))\n",
    "    model.add(Dense(700, activation = 'relu'))\n",
    "    model.add(Dense(700, activation = 'relu'))\n",
    "    model.add(Dense(600, activation = 'relu'))\n",
    "    model.add(Dense(500, activation = 'relu'))\n",
    "    model.add(Dense(400, activation = 'relu'))\n",
    "    model.add(Dense(300, activation = 'relu'))\n",
    "    model.add(Dense(300, activation = 'relu'))\n",
    "    model.add(Dense(300, activation = 'relu'))\n",
    "    model.add(Dense(300, activation = 'relu'))\n",
    "    model.add(Dense(300, activation = 'relu'))\n",
    "    model.add(Dense(300, activation = 'relu'))\n",
    "    model.add(Dense(300, activation = 'relu'))\n",
    "    model.add(Dense(300, activation = 'relu'))\n",
    "    model.add(Dense(300, activation = 'relu'))\n",
    "    model.add(Dense(300, activation = 'relu'))\n",
    "    model.add(Dense(300, activation = 'relu'))\n",
    "    model.add(Dense(300, activation = 'relu'))\n",
    "    model.add(Dense(300, activation = 'relu'))\n",
    "    model.add(Dense(300, activation = 'relu'))\n",
    "    model.add(Dense(300, activation = 'relu'))\n",
    "    model.add(Dense(300, activation = 'relu'))\n",
    "    model.add(Dense(300, activation = 'relu'))\n",
    "    model.add(Dense(300, activation = 'relu'))\n",
    "    model.add(Dense(300, activation = 'relu'))\n",
    "    model.add(Dense(300, activation = 'relu'))\n",
    "    model.add(Dense(300, activation = 'relu'))\n",
    "    model.add(Dense(300, activation = 'relu'))\n",
    "    model.add(Dense(300, activation = 'relu'))\n",
    "    model.add(Dense(2, activation = 'softmax'))\n",
    "    return(model)\n",
    "\n",
    "#learning_rates =[0.000001, 0.0001, 0.001, 0.01, 0.1, 1]\n",
    " #learning_rates =[0.0001, 0.001]\n",
    "learning_rates =[0.001]\n",
    "# Loop over learning rates\n",
    "for lr in learning_rates:\n",
    "    model = get_nn_model()\n",
    "    print('_____________ RESULTS WITH LEARNING RATE =', lr,'_________________')\n",
    "    optimizer = Adam(learning_rate = lr)\n",
    "    model.compile(optimizer = optimizer, loss = 'categorical_crossentropy', metrics = ['accuracy', metrics.SensitivityAtSpecificity(0.6)])\n",
    "    model.fit(X_train, target, validation_split = 0.3, epochs = 20, callbacks = [early_stopping_callback])"
   ]
  },
  {
   "cell_type": "code",
   "execution_count": 64,
   "metadata": {},
   "outputs": [
    {
     "name": "stdout",
     "output_type": "stream",
     "text": [
      "37200/37200 [==============================] - 4s 113us/step\n"
     ]
    },
    {
     "data": {
      "text/plain": [
       "[0.6901640666428432, 0.5386559367179871, 0.5386559367179871]"
      ]
     },
     "execution_count": 64,
     "metadata": {},
     "output_type": "execute_result"
    }
   ],
   "source": [
    "model.save(\"30_hidden_text.h5\")\n",
    "model.evaluate(X_test, target_test)\n"
   ]
  }
 ],
 "metadata": {
  "kernelspec": {
   "display_name": "Python 3",
   "language": "python",
   "name": "python3"
  },
  "language_info": {
   "codemirror_mode": {
    "name": "ipython",
    "version": 3
   },
   "file_extension": ".py",
   "mimetype": "text/x-python",
   "name": "python",
   "nbconvert_exporter": "python",
   "pygments_lexer": "ipython3",
   "version": "3.7.3"
  }
 },
 "nbformat": 4,
 "nbformat_minor": 4
}
